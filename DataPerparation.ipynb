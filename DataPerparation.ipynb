{
 "cells": [
  {
   "cell_type": "markdown",
   "id": "5bda45fb-ab2f-4e67-9c1f-d67f03643c09",
   "metadata": {},
   "source": [
    "<b><h2 style=\"text-align:center;\">COMM493 - Coding AI for Business</h2><b>"
   ]
  },
  {
   "cell_type": "markdown",
   "id": "14139e12-6cf5-4472-9889-e7e46dd8beb8",
   "metadata": {},
   "source": [
    "<h5 style=\"text-align:center;\">Assignment 1 - Linear Learner Data Identification & Preparation</h5>"
   ]
  },
  {
   "cell_type": "markdown",
   "id": "ccf7d44a-68db-4abc-9c54-0ab1a8021d96",
   "metadata": {},
   "source": [
    "<h5 style=\"text-align:center;\">Maxwell Brookes - 20244724</h5>"
   ]
  },
  {
   "cell_type": "markdown",
   "id": "e7c3002b-f8d1-46ca-9d0f-f4c9d89517f2",
   "metadata": {},
   "source": [
    "<h5 style=\"text-align:center;\">Due on Feb 9</h5>"
   ]
  },
  {
   "cell_type": "markdown",
   "id": "782ed4f5-4a7e-4f54-a79d-9ea9a9d54a3f",
   "metadata": {},
   "source": [
    "\n",
    "<b><h4>About The Dataset:</h4><b>\n",
    "<h5>asdjklasj klasjkl fjaklsdjfklsjadklf jalskfjklsd j fasdklj fklasjdf ljaslfjsdlfj kadj</h5>"
   ]
  },
  {
   "cell_type": "markdown",
   "id": "8a1e5dbe-4b92-4521-9252-213aaff9adf0",
   "metadata": {},
   "source": [
    "\n",
    "<b><h4>Load Modules & Tools:</h4><b>"
   ]
  },
  {
   "cell_type": "code",
   "execution_count": 12,
   "id": "19874df8-ed7e-4ec5-b857-bb7b522a5d72",
   "metadata": {},
   "outputs": [
    {
     "name": "stdout",
     "output_type": "stream",
     "text": [
      "3.10.16 | packaged by conda-forge | (main, Dec  5 2024, 14:16:10) [GCC 13.3.0]\n",
      "Successfully Loaded All Modules\n"
     ]
    }
   ],
   "source": [
    "import numpy as np  # for linear algebra\n",
    "import pandas as pd  # for loading data\n",
    "from matplotlib import pyplot as plt  # for visualizations\n",
    "import sys  # for system information\n",
    "\n",
    "print(sys.version)\n",
    "print(\"Successfully Loaded All Modules\")"
   ]
  },
  {
   "cell_type": "markdown",
   "id": "4aeb74b4-7fcd-424a-b7a6-059e17dbb753",
   "metadata": {},
   "source": [
    "\n",
    "<b><h4>Initialize Variables:</h4><b>"
   ]
  },
  {
   "cell_type": "code",
   "execution_count": null,
   "id": "7766dc95-336e-4235-b1f6-367cff31bb93",
   "metadata": {},
   "outputs": [],
   "source": [
    "dataset_file_path = \"/name.cvs\""
   ]
  },
  {
   "cell_type": "code",
   "execution_count": null,
   "id": "92e34f88-647c-4f8b-a993-c25abc0e843e",
   "metadata": {},
   "outputs": [],
   "source": []
  },
  {
   "cell_type": "code",
   "execution_count": null,
   "id": "66e87d51-1ad4-4f08-a1e9-b6040051a212",
   "metadata": {},
   "outputs": [],
   "source": []
  }
 ],
 "metadata": {
  "kernelspec": {
   "display_name": "conda_python3",
   "language": "python",
   "name": "conda_python3"
  },
  "language_info": {
   "codemirror_mode": {
    "name": "ipython",
    "version": 3
   },
   "file_extension": ".py",
   "mimetype": "text/x-python",
   "name": "python",
   "nbconvert_exporter": "python",
   "pygments_lexer": "ipython3",
   "version": "3.10.16"
  }
 },
 "nbformat": 4,
 "nbformat_minor": 5
}
