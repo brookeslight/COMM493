{
 "cells": [
  {
   "cell_type": "markdown",
   "id": "5bda45fb-ab2f-4e67-9c1f-d67f03643c09",
   "metadata": {},
   "source": [
    "<b><h2 style=\"text-align:center;\">COMM493 - Coding AI for Business</h2><b>"
   ]
  },
  {
   "cell_type": "markdown",
   "id": "14139e12-6cf5-4472-9889-e7e46dd8beb8",
   "metadata": {},
   "source": [
    "<h5 style=\"text-align:center;\">Assignment 1 - Linear Learner Data Identification & Preparation</h5>"
   ]
  },
  {
   "cell_type": "markdown",
   "id": "ccf7d44a-68db-4abc-9c54-0ab1a8021d96",
   "metadata": {},
   "source": [
    "<h5 style=\"text-align:center;\">Maxwell Brookes - 20244724</h5>"
   ]
  },
  {
   "cell_type": "markdown",
   "id": "e7c3002b-f8d1-46ca-9d0f-f4c9d89517f2",
   "metadata": {},
   "source": [
    "<h5 style=\"text-align:center;\">Due on Feb 9</h5>"
   ]
  },
  {
   "cell_type": "markdown",
   "id": "782ed4f5-4a7e-4f54-a79d-9ea9a9d54a3f",
   "metadata": {},
   "source": [
    "\n",
    "<b><h4>About The Dataset:</h4><b>\n",
    "<h5>asdjklasj klasjkl fjaklsdjfklsjadklf jalskfjklsd j fasdklj fklasjdf ljaslfjsdlfj kadj</h5>"
   ]
  },
  {
   "cell_type": "markdown",
   "id": "8a1e5dbe-4b92-4521-9252-213aaff9adf0",
   "metadata": {},
   "source": [
    "\n",
    "<b><h4>Load Modules & Tools:</h4><b>"
   ]
  },
  {
   "cell_type": "code",
   "execution_count": 1,
   "id": "19874df8-ed7e-4ec5-b857-bb7b522a5d72",
   "metadata": {
    "scrolled": true
   },
   "outputs": [
    {
     "name": "stdout",
     "output_type": "stream",
     "text": [
      "3.10.16 | packaged by conda-forge | (main, Dec  5 2024, 14:16:10) [GCC 13.3.0]\n",
      "Successfully Loaded All Modules\n"
     ]
    }
   ],
   "source": [
    "import numpy as np  # for linear algebra\n",
    "import pandas as pd  # for loading data\n",
    "# from matplotlib import pyplot as plt  # for visualizations\n",
    "import sys  # for system information\n",
    "\n",
    "print(sys.version)\n",
    "print(\"Successfully Loaded All Modules\")"
   ]
  },
  {
   "cell_type": "markdown",
   "id": "1e06b67f-98b4-4d61-ba0e-ca7a9d4b3ce1",
   "metadata": {},
   "source": [
    "\n",
    "<b><h4>Load Dataset:</h4><b>"
   ]
  },
  {
   "cell_type": "code",
   "execution_count": 2,
   "id": "ece5cf2b-b62e-4448-b968-e6ada121c555",
   "metadata": {},
   "outputs": [],
   "source": [
    "# dataset = https://www.kaggle.com/datasets/smac91/hotel-bookings, implementation = https://www.kaggle.com/datasets/somnathnaskar/hotel-booking-dataset/data\n",
    "df = pd.read_csv('hotel_bookings.csv')  # Load the CSV file into a DataFrame"
   ]
  },
  {
   "cell_type": "markdown",
   "id": "13590b07-0c06-44a1-9315-55010b5dffb6",
   "metadata": {},
   "source": [
    "\n",
    "<b><h4>Preview Dataset:</h4><b>"
   ]
  },
  {
   "cell_type": "code",
   "execution_count": 3,
   "id": "d093cf99-8757-44c6-a6e2-7aeccc05a1ba",
   "metadata": {},
   "outputs": [
    {
     "name": "stdout",
     "output_type": "stream",
     "text": [
      "Data Shape: (119390, 32)\n",
      "Data Preview:\n",
      "          hotel  is_canceled  lead_time  arrival_date_year arrival_date_month\n",
      "0  Resort Hotel            0        342               2015               July\n",
      "1  Resort Hotel            0        737               2015               July\n",
      "2  Resort Hotel            0          7               2015               July\n",
      "3  Resort Hotel            0         13               2015               July\n",
      "4  Resort Hotel            0         14               2015               July\n",
      "5  Resort Hotel            0         14               2015               July\n",
      "6  Resort Hotel            0          0               2015               July\n",
      "7  Resort Hotel            0          9               2015               July\n",
      "8  Resort Hotel            1         85               2015               July\n",
      "9  Resort Hotel            1         75               2015               July\n"
     ]
    }
   ],
   "source": [
    "print('Data Shape:', df.shape)  # print the shape of the data\n",
    "print('Data Preview:')\n",
    "print(df.iloc[:10, :5])  # list first 10 row and columns"
   ]
  },
  {
   "cell_type": "markdown",
   "id": "a1836fd4-c27f-44bf-941f-cf4579466db8",
   "metadata": {},
   "source": [
    "\n",
    "<b><h4>Drop Columns:</h4><b>\n",
    "<h5>'agent' and 'company' because it doe snot matter in this context</h5>\n",
    "<h5>'arrival_date_week_number' because 'arrival_date_month' and 'arrival_date_day_of_month' are already included</h5>\n",
    "<h5>'country' because analysis is not based on location</h5>\n",
    "<h5>'market_segment' because the values don't provide significant insight</h5>\n",
    "<h5>'distribution_channel' because it has overlap with 'market_segment'</h5>\n",
    "<h5>'days_in_waiting_list' because most values are zero</h5>\n",
    "<h5>'meal' because most values are BB, which implies that all hotels offer the same</h5>\n",
    "<h5>'reservation_status_date' because the info is already captured with 'lead_time'</h5>\n",
    "<h5>'reservation_status' conveys the same information as 'is_cancelled'</h5>\n",
    "<h5>'reserved_room_type' and 'assigned_room_type' because a small kingston business will not have many room options</h5>h5"
   ]
  },
  {
   "cell_type": "code",
   "execution_count": 4,
   "id": "8641aa18-9996-431d-86d4-43860e54f122",
   "metadata": {},
   "outputs": [
    {
     "name": "stdout",
     "output_type": "stream",
     "text": [
      "Data Shape: (119390, 21)\n"
     ]
    }
   ],
   "source": [
    "# print(df.columns)  # Check available columns\n",
    "# unique_dict = {col: df[col].unique() for col in df.columns}\n",
    "# for col, uniques in unique_dict.items():\n",
    "#     print(f\"{col}: {uniques}\")\n",
    "columns_to_drop = ['agent', 'company', 'arrival_date_week_number',\n",
    "                   'country', 'market_segment', 'distribution_channel',\n",
    "                   'days_in_waiting_list', 'meal', 'reservation_status',\n",
    "                  'reserved_room_type', 'assigned_room_type'] # maybe add is_repeated_guest \n",
    "df.drop(columns_to_drop, axis=1, inplace=True)  # drop columns without having to create a new pandas data frame\n",
    "print('Data Shape:', df.shape)"
   ]
  },
  {
   "cell_type": "markdown",
   "id": "6d05c71c-eb68-4be2-bd12-9f27c09d5558",
   "metadata": {},
   "source": [
    "\n",
    "<b><h4>Further Cleaning (Rows, Unrealistic, Outliers, ...):</h4><b>"
   ]
  },
  {
   "cell_type": "code",
   "execution_count": 5,
   "id": "b35ae959-ca7a-4180-aebe-6befbd1fc2cd",
   "metadata": {},
   "outputs": [
    {
     "name": "stdout",
     "output_type": "stream",
     "text": [
      "Data Shape: (50804, 20)\n"
     ]
    }
   ],
   "source": [
    "df.drop_duplicates(keep='first', inplace=True)  # Drop duplicate rows, keeping only the first occurrence\n",
    "df['children'].fillna(0, inplace=True)  # Replace NaN values in 'children' with 0\n",
    "\n",
    "df.drop(df[df['hotel'] == 'Resort Hotel'].index, inplace=True)  # Drop all rows where 'hotel' is 'Resort Hotel'\n",
    "df.drop(['hotel'], axis=1, inplace=True)  # Drop the 'hotel' column since only 'City Hotel' remains\n",
    "\n",
    "df.drop(df[df['adults'] == 0].index, inplace=True)  # Drop rows where 'adults' is 0\n",
    "df.drop(df[df['adults'] > 15].index, inplace=True)  # Drop rows where 'adults' is greater than 15\n",
    "df.drop(df[(df['children'] > 3) | (df['babies'] > 2)].index, inplace=True)  # Drop rows where 'children' > 3 or 'babies' > 2\n",
    "\n",
    "df.drop(df[df['lead_time'] > 500].index, inplace=True)  # Drop rows where 'lead_time' is greater than 500\n",
    "df.drop(df[(df['stays_in_week_nights'] > 30) | (df['stays_in_weekend_nights'] > 10)].index, inplace=True)  # Drop rows where 'stays_in_week_nights' > 30 or 'stays_in_weekend_nights' > 10\n",
    "\n",
    "df.reset_index(drop=True, inplace=True)  # Reset the index after all modifications\n",
    "\n",
    "print('Data Shape:', df.shape)"
   ]
  }
 ],
 "metadata": {
  "kernelspec": {
   "display_name": "conda_python3",
   "language": "python",
   "name": "conda_python3"
  },
  "language_info": {
   "codemirror_mode": {
    "name": "ipython",
    "version": 3
   },
   "file_extension": ".py",
   "mimetype": "text/x-python",
   "name": "python",
   "nbconvert_exporter": "python",
   "pygments_lexer": "ipython3",
   "version": "3.10.16"
  }
 },
 "nbformat": 4,
 "nbformat_minor": 5
}
