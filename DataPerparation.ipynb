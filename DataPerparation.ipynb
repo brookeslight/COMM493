{
 "cells": [
  {
   "cell_type": "markdown",
   "id": "5bda45fb-ab2f-4e67-9c1f-d67f03643c09",
   "metadata": {},
   "source": [
    "<b><h2 style=\"text-align:center;\">COMM493 - Coding AI for Business</h2><b>"
   ]
  },
  {
   "cell_type": "markdown",
   "id": "14139e12-6cf5-4472-9889-e7e46dd8beb8",
   "metadata": {},
   "source": [
    "<h5 style=\"text-align:center;\">Assignment 1 - Linear Learner Data Identification & Preparation</h5>"
   ]
  },
  {
   "cell_type": "markdown",
   "id": "ccf7d44a-68db-4abc-9c54-0ab1a8021d96",
   "metadata": {},
   "source": [
    "<h5 style=\"text-align:center;\">Maxwell Brookes - 20244724</h5>"
   ]
  },
  {
   "cell_type": "markdown",
   "id": "e7c3002b-f8d1-46ca-9d0f-f4c9d89517f2",
   "metadata": {},
   "source": [
    "<h5 style=\"text-align:center;\">Due on Feb 9</h5>"
   ]
  },
  {
   "cell_type": "markdown",
   "id": "782ed4f5-4a7e-4f54-a79d-9ea9a9d54a3f",
   "metadata": {},
   "source": [
    "\n",
    "<b><h4>About The Dataset:</h4><b>\n",
    "<h5>asdjklasj klasjkl fjaklsdjfklsjadklf jalskfjklsd j fasdklj fklasjdf ljaslfjsdlfj kadj</h5>"
   ]
  },
  {
   "cell_type": "code",
   "execution_count": null,
   "id": "015f35f0-5edd-4bbb-8d82-e44c37423532",
   "metadata": {},
   "outputs": [],
   "source": []
  },
  {
   "cell_type": "code",
   "execution_count": null,
   "id": "19874df8-ed7e-4ec5-b857-bb7b522a5d72",
   "metadata": {},
   "outputs": [],
   "source": []
  },
  {
   "cell_type": "code",
   "execution_count": null,
   "id": "a55e95a8-ea89-415d-b862-357aa6bb6bd9",
   "metadata": {},
   "outputs": [],
   "source": []
  },
  {
   "cell_type": "code",
   "execution_count": null,
   "id": "de278a67-ed33-49fe-8600-c5a4981c927a",
   "metadata": {},
   "outputs": [],
   "source": []
  }
 ],
 "metadata": {
  "kernelspec": {
   "display_name": "conda_python3",
   "language": "python",
   "name": "conda_python3"
  },
  "language_info": {
   "codemirror_mode": {
    "name": "ipython",
    "version": 3
   },
   "file_extension": ".py",
   "mimetype": "text/x-python",
   "name": "python",
   "nbconvert_exporter": "python",
   "pygments_lexer": "ipython3",
   "version": "3.10.16"
  }
 },
 "nbformat": 4,
 "nbformat_minor": 5
}
