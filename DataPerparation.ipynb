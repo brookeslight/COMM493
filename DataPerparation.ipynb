{
 "cells": [
  {
   "cell_type": "markdown",
   "id": "5bda45fb-ab2f-4e67-9c1f-d67f03643c09",
   "metadata": {},
   "source": [
    "<b><h2 style=\"text-align:center;\">COMM493 - Coding AI for Business</h2><b>"
   ]
  },
  {
   "cell_type": "markdown",
   "id": "14139e12-6cf5-4472-9889-e7e46dd8beb8",
   "metadata": {},
   "source": [
    "<h5 style=\"text-align:center;\">Assignment 1 - Linear Learner Data Identification & Preparation</h5>"
   ]
  },
  {
   "cell_type": "markdown",
   "id": "ccf7d44a-68db-4abc-9c54-0ab1a8021d96",
   "metadata": {},
   "source": [
    "<h5 style=\"text-align:center;\">Maxwell Brookes - 20244724</h5>"
   ]
  },
  {
   "cell_type": "markdown",
   "id": "e7c3002b-f8d1-46ca-9d0f-f4c9d89517f2",
   "metadata": {},
   "source": [
    "<h5 style=\"text-align:center;\">Due on Feb 9</h5>"
   ]
  },
  {
   "cell_type": "markdown",
   "id": "782ed4f5-4a7e-4f54-a79d-9ea9a9d54a3f",
   "metadata": {},
   "source": [
    "\n",
    "<b><h4>About The Dataset:</h4><b>\n",
    "<h5>asdjklasj klasjkl fjaklsdjfklsjadklf jalskfjklsd j fasdklj fklasjdf ljaslfjsdlfj kadj</h5>"
   ]
  },
  {
   "cell_type": "markdown",
   "id": "8a1e5dbe-4b92-4521-9252-213aaff9adf0",
   "metadata": {},
   "source": [
    "\n",
    "<b><h4>Load Modules & Tools:</h4><b>"
   ]
  },
  {
   "cell_type": "code",
   "execution_count": 1,
   "id": "19874df8-ed7e-4ec5-b857-bb7b522a5d72",
   "metadata": {
    "scrolled": true
   },
   "outputs": [
    {
     "name": "stdout",
     "output_type": "stream",
     "text": [
      "3.10.16 | packaged by conda-forge | (main, Dec  5 2024, 14:16:10) [GCC 13.3.0]\n",
      "Successfully Loaded All Modules\n"
     ]
    }
   ],
   "source": [
    "import numpy as np  # for linear algebra\n",
    "import pandas as pd  # for loading data\n",
    "from matplotlib import pyplot as plt  # for visualizations\n",
    "import sys  # for system information\n",
    "\n",
    "print(sys.version)\n",
    "print(\"Successfully Loaded All Modules\")"
   ]
  },
  {
   "cell_type": "markdown",
   "id": "4aeb74b4-7fcd-424a-b7a6-059e17dbb753",
   "metadata": {},
   "source": [
    "\n",
    "<b><h4>Initialize Variables:</h4><b>"
   ]
  },
  {
   "cell_type": "code",
   "execution_count": 2,
   "id": "7766dc95-336e-4235-b1f6-367cff31bb93",
   "metadata": {},
   "outputs": [],
   "source": [
    "\n",
    "target_column = \"insert here\""
   ]
  },
  {
   "cell_type": "markdown",
   "id": "1e06b67f-98b4-4d61-ba0e-ca7a9d4b3ce1",
   "metadata": {},
   "source": [
    "\n",
    "<b><h4>Load Dataset:</h4><b>"
   ]
  },
  {
   "cell_type": "code",
   "execution_count": 3,
   "id": "ece5cf2b-b62e-4448-b968-e6ada121c555",
   "metadata": {},
   "outputs": [
    {
     "name": "stdout",
     "output_type": "stream",
     "text": [
      "          hotel  is_canceled  lead_time  arrival_date_year arrival_date_month  \\\n",
      "0  Resort Hotel            0        342               2015               July   \n",
      "1  Resort Hotel            0        737               2015               July   \n",
      "2  Resort Hotel            0          7               2015               July   \n",
      "3  Resort Hotel            0         13               2015               July   \n",
      "4  Resort Hotel            0         14               2015               July   \n",
      "\n",
      "   arrival_date_week_number  arrival_date_day_of_month  \\\n",
      "0                        27                          1   \n",
      "1                        27                          1   \n",
      "2                        27                          1   \n",
      "3                        27                          1   \n",
      "4                        27                          1   \n",
      "\n",
      "   stays_in_weekend_nights  stays_in_week_nights  adults  ...  deposit_type  \\\n",
      "0                        0                     0       2  ...    No Deposit   \n",
      "1                        0                     0       2  ...    No Deposit   \n",
      "2                        0                     1       1  ...    No Deposit   \n",
      "3                        0                     1       1  ...    No Deposit   \n",
      "4                        0                     2       2  ...    No Deposit   \n",
      "\n",
      "   agent company days_in_waiting_list customer_type   adr  \\\n",
      "0    NaN     NaN                    0     Transient   0.0   \n",
      "1    NaN     NaN                    0     Transient   0.0   \n",
      "2    NaN     NaN                    0     Transient  75.0   \n",
      "3  304.0     NaN                    0     Transient  75.0   \n",
      "4  240.0     NaN                    0     Transient  98.0   \n",
      "\n",
      "   required_car_parking_spaces  total_of_special_requests  reservation_status  \\\n",
      "0                            0                          0           Check-Out   \n",
      "1                            0                          0           Check-Out   \n",
      "2                            0                          0           Check-Out   \n",
      "3                            0                          0           Check-Out   \n",
      "4                            0                          1           Check-Out   \n",
      "\n",
      "  reservation_status_date  \n",
      "0              2015-07-01  \n",
      "1              2015-07-01  \n",
      "2              2015-07-02  \n",
      "3              2015-07-02  \n",
      "4              2015-07-03  \n",
      "\n",
      "[5 rows x 32 columns]\n"
     ]
    }
   ],
   "source": [
    "# dataset = https://www.kaggle.com/datasets/smac91/hotel-bookings, implementation = https://www.kaggle.com/datasets/somnathnaskar/hotel-booking-dataset/data\n",
    "df = pd.read_csv('hotel_bookings.csv')  # Load the CSV file into a DataFrame"
   ]
  },
  {
   "cell_type": "code",
   "execution_count": null,
   "id": "0d09be6d-e3b0-43de-8b40-7f658e51fbe2",
   "metadata": {},
   "outputs": [],
   "source": [
    "\n",
    "<b><h4>Preview Dataset:</h4><b>"
   ]
  },
  {
   "cell_type": "code",
   "execution_count": null,
   "id": "d093cf99-8757-44c6-a6e2-7aeccc05a1ba",
   "metadata": {},
   "outputs": [],
   "source": [
    "print(df.shape)\n",
    "print(df.columns)"
   ]
  }
 ],
 "metadata": {
  "kernelspec": {
   "display_name": "conda_python3",
   "language": "python",
   "name": "conda_python3"
  },
  "language_info": {
   "codemirror_mode": {
    "name": "ipython",
    "version": 3
   },
   "file_extension": ".py",
   "mimetype": "text/x-python",
   "name": "python",
   "nbconvert_exporter": "python",
   "pygments_lexer": "ipython3",
   "version": "3.10.16"
  }
 },
 "nbformat": 4,
 "nbformat_minor": 5
}
