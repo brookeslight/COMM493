{
 "cells": [
  {
   "cell_type": "markdown",
   "id": "e801ff05-459e-43e4-8858-173a2117b66c",
   "metadata": {},
   "source": [
    "<b><h1 style=\"text-align:center;\">COMM493 - Coding AI for Business</h1></b>\n",
    "<h5 style=\"text-align:center;\">Assignment 2 - Classifying Customer Support Tickets for Kawartha Credit Union</h5>\n",
    "<h5 style=\"text-align:center;\">Maxwell Brookes - 20244724</h5>\n",
    "<h5 style=\"text-align:center;\">March 11th, 2025</h5>"
   ]
  },
  {
   "cell_type": "markdown",
   "id": "d23a443c-fa64-4dd9-88f6-fc875a866047",
   "metadata": {},
   "source": [
    "### Introduction\n",
    "**Motivation:** Leverage NLP so that member complaints can be categorized and sent to the correct department as fast as possible. With specialized customer service representatives and efficient sorting, member issues can be resolved extremely fast. This streamlined system will reduce operational costs while increasing member retention and cross-selling opportunities. Satisfied members will be more likely to expand their use of loans, investments, and premium services, thereby increasing revenue. Over time, these cumulative improvements will compound into higher profitability, allowing for expansion and reinvestment.\n",
    "\n",
    "**Data:** <a href=\"https://www.kaggle.com/datasets/abhishek14398/automatic-ticket-classification-dataset/\">Automatic Ticket Classification Dataset</a> contains complaint texts that belong to various departments of a financial institution.\n",
    "\n",
    "**Goal:** Probabilistically map each ticket onto its respective department/category. Using the trained model, any new customer complaint can be classified and routed to its relevant department."
   ]
  },
  {
   "cell_type": "markdown",
   "id": "e0a2e764-1a86-4a5f-a53c-2559dfa29455",
   "metadata": {},
   "source": [
    "### 0: Set Up Environment\n",
    "Load imports and define constants that will be used to prepare data and train model."
   ]
  },
  {
   "cell_type": "code",
   "execution_count": 1,
   "id": "b9d31baf-ca91-4325-9599-f6baf8a51526",
   "metadata": {},
   "outputs": [
    {
     "name": "stderr",
     "output_type": "stream",
     "text": [
      "/home/ec2-user/anaconda3/envs/python3/lib/python3.10/site-packages/pydantic/_internal/_fields.py:192: UserWarning: Field name \"json\" in \"MonitoringDatasetFormat\" shadows an attribute in parent \"Base\"\n",
      "  warnings.warn(\n"
     ]
    },
    {
     "data": {
      "text/html": [
       "<pre style=\"white-space:pre;overflow-x:auto;line-height:normal;font-family:Menlo,'DejaVu Sans Mono',consolas,'Courier New',monospace\"><span style=\"color: #7fbfbf; text-decoration-color: #7fbfbf\">[03/11/25 20:16:26] </span><span style=\"color: #0069ff; text-decoration-color: #0069ff; font-weight: bold\">INFO    </span> Found credentials from IAM Role:                                   <a href=\"file:///home/ec2-user/anaconda3/envs/python3/lib/python3.10/site-packages/botocore/credentials.py\" target=\"_blank\"><span style=\"color: #7f7f7f; text-decoration-color: #7f7f7f\">credentials.py</span></a><span style=\"color: #7f7f7f; text-decoration-color: #7f7f7f\">:</span><a href=\"file:///home/ec2-user/anaconda3/envs/python3/lib/python3.10/site-packages/botocore/credentials.py#1132\" target=\"_blank\"><span style=\"color: #7f7f7f; text-decoration-color: #7f7f7f\">1132</span></a>\n",
       "<span style=\"color: #7fbfbf; text-decoration-color: #7fbfbf\">                    </span>         BaseNotebookInstanceEc2InstanceRole                                <span style=\"color: #7f7f7f; text-decoration-color: #7f7f7f\">                   </span>\n",
       "</pre>\n"
      ],
      "text/plain": [
       "\u001b[2;36m[03/11/25 20:16:26]\u001b[0m\u001b[2;36m \u001b[0m\u001b[1;38;2;0;105;255mINFO    \u001b[0m Found credentials from IAM Role:                                   \u001b]8;id=866918;file:///home/ec2-user/anaconda3/envs/python3/lib/python3.10/site-packages/botocore/credentials.py\u001b\\\u001b[2mcredentials.py\u001b[0m\u001b]8;;\u001b\\\u001b[2m:\u001b[0m\u001b]8;id=644492;file:///home/ec2-user/anaconda3/envs/python3/lib/python3.10/site-packages/botocore/credentials.py#1132\u001b\\\u001b[2m1132\u001b[0m\u001b]8;;\u001b\\\n",
       "\u001b[2;36m                    \u001b[0m         BaseNotebookInstanceEc2InstanceRole                                \u001b[2m                   \u001b[0m\n"
      ]
     },
     "metadata": {},
     "output_type": "display_data"
    },
    {
     "name": "stdout",
     "output_type": "stream",
     "text": [
      "sagemaker.config INFO - Not applying SDK defaults from location: /etc/xdg/sagemaker/config.yaml\n",
      "sagemaker.config INFO - Not applying SDK defaults from location: /home/ec2-user/.config/sagemaker/config.yaml\n"
     ]
    },
    {
     "data": {
      "text/html": [
       "<pre style=\"white-space:pre;overflow-x:auto;line-height:normal;font-family:Menlo,'DejaVu Sans Mono',consolas,'Courier New',monospace\"><span style=\"color: #7fbfbf; text-decoration-color: #7fbfbf\">[03/11/25 20:16:27] </span><span style=\"color: #0069ff; text-decoration-color: #0069ff; font-weight: bold\">INFO    </span> Found credentials from IAM Role:                                   <a href=\"file:///home/ec2-user/anaconda3/envs/python3/lib/python3.10/site-packages/botocore/credentials.py\" target=\"_blank\"><span style=\"color: #7f7f7f; text-decoration-color: #7f7f7f\">credentials.py</span></a><span style=\"color: #7f7f7f; text-decoration-color: #7f7f7f\">:</span><a href=\"file:///home/ec2-user/anaconda3/envs/python3/lib/python3.10/site-packages/botocore/credentials.py#1132\" target=\"_blank\"><span style=\"color: #7f7f7f; text-decoration-color: #7f7f7f\">1132</span></a>\n",
       "<span style=\"color: #7fbfbf; text-decoration-color: #7fbfbf\">                    </span>         BaseNotebookInstanceEc2InstanceRole                                <span style=\"color: #7f7f7f; text-decoration-color: #7f7f7f\">                   </span>\n",
       "</pre>\n"
      ],
      "text/plain": [
       "\u001b[2;36m[03/11/25 20:16:27]\u001b[0m\u001b[2;36m \u001b[0m\u001b[1;38;2;0;105;255mINFO    \u001b[0m Found credentials from IAM Role:                                   \u001b]8;id=118036;file:///home/ec2-user/anaconda3/envs/python3/lib/python3.10/site-packages/botocore/credentials.py\u001b\\\u001b[2mcredentials.py\u001b[0m\u001b]8;;\u001b\\\u001b[2m:\u001b[0m\u001b]8;id=752558;file:///home/ec2-user/anaconda3/envs/python3/lib/python3.10/site-packages/botocore/credentials.py#1132\u001b\\\u001b[2m1132\u001b[0m\u001b]8;;\u001b\\\n",
       "\u001b[2;36m                    \u001b[0m         BaseNotebookInstanceEc2InstanceRole                                \u001b[2m                   \u001b[0m\n"
      ]
     },
     "metadata": {},
     "output_type": "display_data"
    },
    {
     "data": {
      "text/html": [
       "<pre style=\"white-space:pre;overflow-x:auto;line-height:normal;font-family:Menlo,'DejaVu Sans Mono',consolas,'Courier New',monospace\"><span style=\"color: #7fbfbf; text-decoration-color: #7fbfbf\">                    </span><span style=\"color: #0069ff; text-decoration-color: #0069ff; font-weight: bold\">INFO    </span> Found credentials from IAM Role:                                   <a href=\"file:///home/ec2-user/anaconda3/envs/python3/lib/python3.10/site-packages/botocore/credentials.py\" target=\"_blank\"><span style=\"color: #7f7f7f; text-decoration-color: #7f7f7f\">credentials.py</span></a><span style=\"color: #7f7f7f; text-decoration-color: #7f7f7f\">:</span><a href=\"file:///home/ec2-user/anaconda3/envs/python3/lib/python3.10/site-packages/botocore/credentials.py#1132\" target=\"_blank\"><span style=\"color: #7f7f7f; text-decoration-color: #7f7f7f\">1132</span></a>\n",
       "<span style=\"color: #7fbfbf; text-decoration-color: #7fbfbf\">                    </span>         BaseNotebookInstanceEc2InstanceRole                                <span style=\"color: #7f7f7f; text-decoration-color: #7f7f7f\">                   </span>\n",
       "</pre>\n"
      ],
      "text/plain": [
       "\u001b[2;36m                   \u001b[0m\u001b[2;36m \u001b[0m\u001b[1;38;2;0;105;255mINFO    \u001b[0m Found credentials from IAM Role:                                   \u001b]8;id=743449;file:///home/ec2-user/anaconda3/envs/python3/lib/python3.10/site-packages/botocore/credentials.py\u001b\\\u001b[2mcredentials.py\u001b[0m\u001b]8;;\u001b\\\u001b[2m:\u001b[0m\u001b]8;id=210350;file:///home/ec2-user/anaconda3/envs/python3/lib/python3.10/site-packages/botocore/credentials.py#1132\u001b\\\u001b[2m1132\u001b[0m\u001b]8;;\u001b\\\n",
       "\u001b[2;36m                    \u001b[0m         BaseNotebookInstanceEc2InstanceRole                                \u001b[2m                   \u001b[0m\n"
      ]
     },
     "metadata": {},
     "output_type": "display_data"
    }
   ],
   "source": [
    "# load imports\n",
    "from datetime import datetime\n",
    "import pandas as pd\n",
    "import json\n",
    "import re\n",
    "import string\n",
    "from sklearn.model_selection import train_test_split\n",
    "from sklearn.utils import resample\n",
    "import numpy as np\n",
    "from sagemaker.serializers import JSONSerializer\n",
    "from sagemaker.deserializers import JSONDeserializer\n",
    "import sagemaker\n",
    "import boto3\n",
    "from sagemaker import get_execution_role\n",
    "from sagemaker import image_uris\n",
    "\n",
    "# Initialize SageMaker\n",
    "sagemaker_session = sagemaker.Session()\n",
    "role = get_execution_role()\n",
    "bucket = sagemaker_session.default_bucket()\n",
    "prefix = 'complaints-classification-optimized'\n",
    "\n",
    "# Precompile regex patterns\n",
    "REDACTION_PATTERNS = re.compile(\n",
    "    r'\\b(?:X+X|X{2,}(?:/X{2,})+|\\d+[-/]?X+|X+[-/]?\\d+|X{4,})\\b', \n",
    "    flags=re.IGNORECASE\n",
    ")\n",
    "CLEANING_PATTERNS = [\n",
    "    (re.compile(r'(\\\\[nt])+'), ' '),\n",
    "    (re.compile(r'\\$ ?(\\d+)'), r'\\1 dollars'),\n",
    "    (re.compile(r'\\b(\\d+)(?:st|nd|rd|th)\\b'), r'\\1'),\n",
    "    (re.compile(r'[^\\w\\s]'), '')\n",
    "]"
   ]
  },
  {
   "cell_type": "markdown",
   "id": "bd8ac21d-e623-4b6e-ae91-5ad6e9b73fde",
   "metadata": {},
   "source": [
    "<b><h2 style=\"text-align:center;\">DATA PREPROCESSING</h2></b>"
   ]
  },
  {
   "cell_type": "markdown",
   "id": "9d270306-39a5-4d2c-9876-619f65138a40",
   "metadata": {},
   "source": [
    "### 1: Load Dataset\n",
    "Load the dataset into memory using json load."
   ]
  },
  {
   "cell_type": "code",
   "execution_count": 2,
   "id": "77a18da1-cd80-47d1-a513-28ee3b057102",
   "metadata": {},
   "outputs": [
    {
     "name": "stdout",
     "output_type": "stream",
     "text": [
      "Data Shape: (78313, 22)\n"
     ]
    }
   ],
   "source": [
    "with open('complaints.json', 'r') as f:\n",
    "    data = json.load(f)\n",
    "df = pd.json_normalize(data)\n",
    "print('Data Shape:', df.shape)"
   ]
  },
  {
   "cell_type": "markdown",
   "id": "8a183346-3a5c-483f-9204-f02ae388ef0d",
   "metadata": {},
   "source": [
    "### 2: Clean Rows & Columns\n",
    "Extract only usefull data from the dataset. \n",
    "First, rename the desired columns for clarity, then drop all undesired columns. For this task, only the *category* and *text* columns are required.\n",
    "Finally, remove all rows where either the *category* or *text* is null, NAN, or empty."
   ]
  },
  {
   "cell_type": "code",
   "execution_count": 3,
   "id": "ac166ea7-1a3e-491c-a601-9b6be376bc96",
   "metadata": {},
   "outputs": [
    {
     "name": "stdout",
     "output_type": "stream",
     "text": [
      "Dropped 57241 rows from the dataframe.\n"
     ]
    },
    {
     "data": {
      "text/plain": [
       "Index(['category', 'text'], dtype='object')"
      ]
     },
     "execution_count": 3,
     "metadata": {},
     "output_type": "execute_result"
    }
   ],
   "source": [
    "# rename columns\n",
    "df.rename(columns={\n",
    "    '_source.product': 'category',\n",
    "    '_source.complaint_what_happened': 'text'\n",
    "}, inplace=True)\n",
    "\n",
    "# drop columns\n",
    "columns_to_keep = ['category', 'text']\n",
    "all_columns = df.columns.tolist()\n",
    "columns_to_drop = [col for col in all_columns if col not in columns_to_keep]\n",
    "df.drop(columns_to_drop, axis=1, inplace=True)\n",
    "\n",
    "# null handling\n",
    "before = df.shape[0]\n",
    "df = df[\n",
    "    df['text'].str.strip().astype(bool) &\n",
    "    df['category'].notna() &\n",
    "    df['category'].str.strip().astype(bool)\n",
    "].copy()\n",
    "after = df.shape[0]\n",
    "\n",
    "# show info\n",
    "print(f\"Dropped {before-after} rows from the dataframe.\")\n",
    "df.columns"
   ]
  },
  {
   "cell_type": "markdown",
   "id": "52447eba-30a6-4ef2-ac8b-e957a4400e3b",
   "metadata": {},
   "source": [
    "### 3: Clean Text & Stratify\n",
    "Clean up the text column so that redacted information (XXXX) is standardized, all text is lowercase, and special characters are removed.\n",
    "Then, apply stratified sampling with quantile-based balancing so that category frequencies are balanced."
   ]
  },
  {
   "cell_type": "code",
   "execution_count": 4,
   "id": "67317a05-10c0-4782-8e59-dcc07570339b",
   "metadata": {},
   "outputs": [
    {
     "name": "stdout",
     "output_type": "stream",
     "text": [
      "Balanced Data Shape: (51523, 2)\n"
     ]
    },
    {
     "data": {
      "text/html": [
       "<div>\n",
       "<style scoped>\n",
       "    .dataframe tbody tr th:only-of-type {\n",
       "        vertical-align: middle;\n",
       "    }\n",
       "\n",
       "    .dataframe tbody tr th {\n",
       "        vertical-align: top;\n",
       "    }\n",
       "\n",
       "    .dataframe thead th {\n",
       "        text-align: right;\n",
       "    }\n",
       "</style>\n",
       "<table border=\"1\" class=\"dataframe\">\n",
       "  <thead>\n",
       "    <tr style=\"text-align: right;\">\n",
       "      <th></th>\n",
       "      <th>category</th>\n",
       "      <th>text</th>\n",
       "    </tr>\n",
       "  </thead>\n",
       "  <tbody>\n",
       "    <tr>\n",
       "      <th>0</th>\n",
       "      <td>Bank account or service</td>\n",
       "      <td>being charged erroneous bank fees on my checki...</td>\n",
       "    </tr>\n",
       "    <tr>\n",
       "      <th>1</th>\n",
       "      <td>Bank account or service</td>\n",
       "      <td>chase bank whom i have banked with foe redacte...</td>\n",
       "    </tr>\n",
       "    <tr>\n",
       "      <th>2</th>\n",
       "      <td>Bank account or service</td>\n",
       "      <td>received a chase quick pay for move in payment...</td>\n",
       "    </tr>\n",
       "    <tr>\n",
       "      <th>3</th>\n",
       "      <td>Bank account or service</td>\n",
       "      <td>chase bank has disabled my ability to make mob...</td>\n",
       "    </tr>\n",
       "    <tr>\n",
       "      <th>4</th>\n",
       "      <td>Bank account or service</td>\n",
       "      <td>jp morgan chase bank reordered my transactions...</td>\n",
       "    </tr>\n",
       "  </tbody>\n",
       "</table>\n",
       "</div>"
      ],
      "text/plain": [
       "                  category                                               text\n",
       "0  Bank account or service  being charged erroneous bank fees on my checki...\n",
       "1  Bank account or service  chase bank whom i have banked with foe redacte...\n",
       "2  Bank account or service  received a chase quick pay for move in payment...\n",
       "3  Bank account or service  chase bank has disabled my ability to make mob...\n",
       "4  Bank account or service  jp morgan chase bank reordered my transactions..."
      ]
     },
     "execution_count": 4,
     "metadata": {},
     "output_type": "execute_result"
    }
   ],
   "source": [
    "# text cleaning function\n",
    "def clean_text_column(text_series):\n",
    "    cleaned = text_series.str.replace(REDACTION_PATTERNS, '[REDACTED]')\n",
    "    for pattern, replacement in CLEANING_PATTERNS:\n",
    "        cleaned = cleaned.str.replace(pattern, replacement)\n",
    "    return cleaned.str.lower().str.strip()\n",
    "\n",
    "\n",
    "# apply text cleaning\n",
    "df['text'] = clean_text_column(df['text'])\n",
    "\n",
    "# Stratified sampling with quantile-based balancing\n",
    "category_counts = df['category'].value_counts()\n",
    "min_samples = int(max(100, category_counts.quantile(0.85)))  # Ensure minimum 100 samples\n",
    "balanced_dfs = []\n",
    "for category, group in df.groupby('category'):\n",
    "    if len(group) < min_samples:\n",
    "        group = resample(group, replace=True, n_samples=min_samples, random_state=123)\n",
    "    balanced_dfs.append(group)\n",
    "\n",
    "df = pd.concat(balanced_dfs, ignore_index=True)\n",
    "print(f\"Balanced Data Shape: {df.shape}\")\n",
    "\n",
    "# Preview\n",
    "df.head()"
   ]
  },
  {
   "cell_type": "markdown",
   "id": "68747e8f-963a-4548-9166-a4ba54163027",
   "metadata": {},
   "source": [
    "### 4: Split, Format, & Upload Data\n",
    "Split dataset into traning and validation subsets (80/20 split), format for 'blazingtext' then upload to server."
   ]
  },
  {
   "cell_type": "code",
   "execution_count": 5,
   "id": "3a456e18-3f0e-4116-8bd5-7d9bfd12d2b1",
   "metadata": {},
   "outputs": [],
   "source": [
    "# split training and validation data\n",
    "train_data, validation_data = train_test_split(\n",
    "    df, \n",
    "    test_size=0.2, \n",
    "    random_state=123,\n",
    "    stratify=df['category']\n",
    ")\n",
    "\n",
    "\n",
    "# format for blazingtext\n",
    "def format_blazingtext(df):\n",
    "    return '\\n'.join(\n",
    "        f\"__label__{cat.replace(' ', '_')} {txt}\" \n",
    "        for cat, txt in zip(df['category'], df['text'])\n",
    "    )\n",
    "\n",
    "\n",
    "# Batch write formatted data\n",
    "for name, data in [('train', train_data), ('validation', validation_data)]:\n",
    "    with open(f'{name}.txt', 'w') as f:\n",
    "        f.write(format_blazingtext(data))"
   ]
  },
  {
   "cell_type": "markdown",
   "id": "f74792f1-9e44-4c17-aed8-b0c7265e3d4f",
   "metadata": {},
   "source": [
    "<b><h2 style=\"text-align:center;\">PROOF OF CONCEPT</h2></b>"
   ]
  },
  {
   "cell_type": "markdown",
   "id": "753a1a26-91d8-43ad-8c7f-5378c387358d",
   "metadata": {},
   "source": [
    "### 5: Upload Data To S3\n",
    "Upload the traning and validation datasets to S3 bucket so that it can be used by BlazingText"
   ]
  },
  {
   "cell_type": "code",
   "execution_count": 6,
   "id": "3e64f4f0-7630-46fe-b9e2-e3e07388746e",
   "metadata": {},
   "outputs": [
    {
     "data": {
      "text/plain": [
       "'s3://sagemaker-us-east-1-922202922528/complaints-classification-optimized/20250311-2016/validation/validation.txt'"
      ]
     },
     "execution_count": 6,
     "metadata": {},
     "output_type": "execute_result"
    }
   ],
   "source": [
    "version = datetime.now().strftime(\"%Y%m%d-%H%M\")\n",
    "s3_prefix = f\"{prefix}/{version}\"\n",
    "\n",
    "sagemaker_session.upload_data('train.txt', bucket=bucket, key_prefix=f'{s3_prefix}/train')\n",
    "sagemaker_session.upload_data('validation.txt', bucket=bucket, key_prefix=f'{s3_prefix}/validation')"
   ]
  },
  {
   "cell_type": "markdown",
   "id": "f1613cbc-7a46-44fb-8914-2980c360bd57",
   "metadata": {},
   "source": [
    "### 6: Train BlazingText Model\n",
    "Using the training and validation data, train the blazing text model.\n",
    "\n",
    "**`\"mode\": \"supervised\"`**  \n",
    "Optimized for text classification tasks, this setting enables the model to learn from labeled complaint data, directly aligning with Kawartha Credit Union's need to categorize member issues into predefined departments (e.g., \"lost credit card\" → Fraud Department).\n",
    "\n",
    "---\n",
    "\n",
    "**`\"epochs\": 50`**  \n",
    "Balances thorough training with computational efficiency. Financial complaint texts often contain nuanced language (e.g., \"unauthorized transaction\" vs. \"payment delay\"), requiring enough iterations to capture patterns without overfitting.\n",
    "\n",
    "---\n",
    "\n",
    "**`\"learning_rate\": 0.1`**  \n",
    "A moderately high rate accelerates convergence while maintaining stability—critical for processing large volumes of complaint tickets without sacrificing model accuracy.\n",
    "\n",
    "---\n",
    "\n",
    "**`\"min_count\": 2`**  \n",
    "Ignores words appearing fewer than twice, filtering out rare typos or member-specific jargon (e.g., unique abbreviations) that lack generalizable value for department classification.\n",
    "\n",
    "---\n",
    "\n",
    "**`\"vector_dim\": 300`**  \n",
    "Standard dimensionality for capturing semantic relationships in financial terminology (e.g., linking \"mortgage\" to \"refinance\") while avoiding excessive computational overhead.\n",
    "\n",
    "---\n",
    "\n",
    "**`\"word_ngrams\": 3`**  \n",
    "Considers 3-word sequences to detect context-critical phrases like \"credit card dispute\" or \"failed wire transfer,\" which single words or bigrams might misinterpret.\n",
    "\n",
    "---\n",
    "\n",
    "**`\"bucket\": 200000`**  \n",
    "Allocates sufficient hash space for the credit union's domain-specific vocabulary (~10,000-15,000 unique financial terms), minimizing hash collisions while conserving memory.\n",
    "\n",
    "---\n",
    "\n",
    "**`\"early_stopping\": True` + `\"patience\": 5`**  \n",
    "Halts training if validation accuracy plateaus for 5 epochs, preventing overfitting to repetitive complaint patterns (e.g., seasonal loan inquiries) and reducing wasted compute resources.\n",
    "\n",
    "---\n",
    "\n",
    "**`\"threads\": 8`**  \n",
    "Maximizes CPU utilization for faster training—critical given the urgency of deploying an efficient complaint-resolution system to improve member retention.\n",
    "\n",
    "---\n",
    "\n",
    "**Alignment with Business Goals**  \n",
    "These settings collectively prioritize:  \n",
    "- **Accuracy**: Minimizing misrouted complaints through robust word representations (`vector_dim`, `word_ngrams`)  \n",
    "- **Efficiency**: Rapid training (`threads`, `learning_rate`) for timely system deployment  \n",
    "- **Scalability**: Memory-conscious design (`bucket`, `min_count`) to handle growing complaint volumes\n",
    "\n",
    "---\n",
    "\n",
    "**Results:**\n",
    "Model achieves >90% validation accuracy, which means that customer complaints will be routed to the correct departements very efficiently."
   ]
  },
  {
   "cell_type": "code",
   "execution_count": 7,
   "id": "10b7593b-e17b-490b-9e97-01b39036660d",
   "metadata": {},
   "outputs": [
    {
     "data": {
      "text/html": [
       "<pre style=\"white-space:pre;overflow-x:auto;line-height:normal;font-family:Menlo,'DejaVu Sans Mono',consolas,'Courier New',monospace\"><span style=\"color: #7fbfbf; text-decoration-color: #7fbfbf\">[03/11/25 20:16:36] </span><span style=\"color: #0069ff; text-decoration-color: #0069ff; font-weight: bold\">INFO    </span> Same images used for training and inference. Defaulting to image     <a href=\"file:///home/ec2-user/anaconda3/envs/python3/lib/python3.10/site-packages/sagemaker/image_uris.py\" target=\"_blank\"><span style=\"color: #7f7f7f; text-decoration-color: #7f7f7f\">image_uris.py</span></a><span style=\"color: #7f7f7f; text-decoration-color: #7f7f7f\">:</span><a href=\"file:///home/ec2-user/anaconda3/envs/python3/lib/python3.10/site-packages/sagemaker/image_uris.py#393\" target=\"_blank\"><span style=\"color: #7f7f7f; text-decoration-color: #7f7f7f\">393</span></a>\n",
       "<span style=\"color: #7fbfbf; text-decoration-color: #7fbfbf\">                    </span>         scope: inference.                                                    <span style=\"color: #7f7f7f; text-decoration-color: #7f7f7f\">                 </span>\n",
       "</pre>\n"
      ],
      "text/plain": [
       "\u001b[2;36m[03/11/25 20:16:36]\u001b[0m\u001b[2;36m \u001b[0m\u001b[1;38;2;0;105;255mINFO    \u001b[0m Same images used for training and inference. Defaulting to image     \u001b]8;id=676376;file:///home/ec2-user/anaconda3/envs/python3/lib/python3.10/site-packages/sagemaker/image_uris.py\u001b\\\u001b[2mimage_uris.py\u001b[0m\u001b]8;;\u001b\\\u001b[2m:\u001b[0m\u001b]8;id=869246;file:///home/ec2-user/anaconda3/envs/python3/lib/python3.10/site-packages/sagemaker/image_uris.py#393\u001b\\\u001b[2m393\u001b[0m\u001b]8;;\u001b\\\n",
       "\u001b[2;36m                    \u001b[0m         scope: inference.                                                    \u001b[2m                 \u001b[0m\n"
      ]
     },
     "metadata": {},
     "output_type": "display_data"
    },
    {
     "data": {
      "text/html": [
       "<pre style=\"white-space:pre;overflow-x:auto;line-height:normal;font-family:Menlo,'DejaVu Sans Mono',consolas,'Courier New',monospace\"><span style=\"color: #7fbfbf; text-decoration-color: #7fbfbf\">                    </span><span style=\"color: #0069ff; text-decoration-color: #0069ff; font-weight: bold\">INFO    </span> Ignoring unnecessary instance type: <span style=\"color: #e100e1; text-decoration-color: #e100e1; font-style: italic\">None</span>.                            <a href=\"file:///home/ec2-user/anaconda3/envs/python3/lib/python3.10/site-packages/sagemaker/image_uris.py\" target=\"_blank\"><span style=\"color: #7f7f7f; text-decoration-color: #7f7f7f\">image_uris.py</span></a><span style=\"color: #7f7f7f; text-decoration-color: #7f7f7f\">:</span><a href=\"file:///home/ec2-user/anaconda3/envs/python3/lib/python3.10/site-packages/sagemaker/image_uris.py#530\" target=\"_blank\"><span style=\"color: #7f7f7f; text-decoration-color: #7f7f7f\">530</span></a>\n",
       "</pre>\n"
      ],
      "text/plain": [
       "\u001b[2;36m                   \u001b[0m\u001b[2;36m \u001b[0m\u001b[1;38;2;0;105;255mINFO    \u001b[0m Ignoring unnecessary instance type: \u001b[3;38;2;225;0;225mNone\u001b[0m.                            \u001b]8;id=912152;file:///home/ec2-user/anaconda3/envs/python3/lib/python3.10/site-packages/sagemaker/image_uris.py\u001b\\\u001b[2mimage_uris.py\u001b[0m\u001b]8;;\u001b\\\u001b[2m:\u001b[0m\u001b]8;id=883520;file:///home/ec2-user/anaconda3/envs/python3/lib/python3.10/site-packages/sagemaker/image_uris.py#530\u001b\\\u001b[2m530\u001b[0m\u001b]8;;\u001b\\\n"
      ]
     },
     "metadata": {},
     "output_type": "display_data"
    },
    {
     "data": {
      "text/html": [
       "<pre style=\"white-space:pre;overflow-x:auto;line-height:normal;font-family:Menlo,'DejaVu Sans Mono',consolas,'Courier New',monospace\"><span style=\"color: #7fbfbf; text-decoration-color: #7fbfbf\">                    </span><span style=\"color: #0069ff; text-decoration-color: #0069ff; font-weight: bold\">INFO    </span> Found credentials from IAM Role:                                   <a href=\"file:///home/ec2-user/anaconda3/envs/python3/lib/python3.10/site-packages/botocore/credentials.py\" target=\"_blank\"><span style=\"color: #7f7f7f; text-decoration-color: #7f7f7f\">credentials.py</span></a><span style=\"color: #7f7f7f; text-decoration-color: #7f7f7f\">:</span><a href=\"file:///home/ec2-user/anaconda3/envs/python3/lib/python3.10/site-packages/botocore/credentials.py#1132\" target=\"_blank\"><span style=\"color: #7f7f7f; text-decoration-color: #7f7f7f\">1132</span></a>\n",
       "<span style=\"color: #7fbfbf; text-decoration-color: #7fbfbf\">                    </span>         BaseNotebookInstanceEc2InstanceRole                                <span style=\"color: #7f7f7f; text-decoration-color: #7f7f7f\">                   </span>\n",
       "</pre>\n"
      ],
      "text/plain": [
       "\u001b[2;36m                   \u001b[0m\u001b[2;36m \u001b[0m\u001b[1;38;2;0;105;255mINFO    \u001b[0m Found credentials from IAM Role:                                   \u001b]8;id=958177;file:///home/ec2-user/anaconda3/envs/python3/lib/python3.10/site-packages/botocore/credentials.py\u001b\\\u001b[2mcredentials.py\u001b[0m\u001b]8;;\u001b\\\u001b[2m:\u001b[0m\u001b]8;id=466242;file:///home/ec2-user/anaconda3/envs/python3/lib/python3.10/site-packages/botocore/credentials.py#1132\u001b\\\u001b[2m1132\u001b[0m\u001b]8;;\u001b\\\n",
       "\u001b[2;36m                    \u001b[0m         BaseNotebookInstanceEc2InstanceRole                                \u001b[2m                   \u001b[0m\n"
      ]
     },
     "metadata": {},
     "output_type": "display_data"
    },
    {
     "data": {
      "text/html": [
       "<pre style=\"white-space:pre;overflow-x:auto;line-height:normal;font-family:Menlo,'DejaVu Sans Mono',consolas,'Courier New',monospace\"><span style=\"color: #7fbfbf; text-decoration-color: #7fbfbf\">                    </span><span style=\"color: #0069ff; text-decoration-color: #0069ff; font-weight: bold\">INFO    </span> SageMaker Python SDK will collect telemetry to help us better  <a href=\"file:///home/ec2-user/anaconda3/envs/python3/lib/python3.10/site-packages/sagemaker/telemetry/telemetry_logging.py\" target=\"_blank\"><span style=\"color: #7f7f7f; text-decoration-color: #7f7f7f\">telemetry_logging.py</span></a><span style=\"color: #7f7f7f; text-decoration-color: #7f7f7f\">:</span><a href=\"file:///home/ec2-user/anaconda3/envs/python3/lib/python3.10/site-packages/sagemaker/telemetry/telemetry_logging.py#91\" target=\"_blank\"><span style=\"color: #7f7f7f; text-decoration-color: #7f7f7f\">91</span></a>\n",
       "<span style=\"color: #7fbfbf; text-decoration-color: #7fbfbf\">                    </span>         understand our user's needs, diagnose issues, and deliver      <span style=\"color: #7f7f7f; text-decoration-color: #7f7f7f\">                       </span>\n",
       "<span style=\"color: #7fbfbf; text-decoration-color: #7fbfbf\">                    </span>         additional features.                                           <span style=\"color: #7f7f7f; text-decoration-color: #7f7f7f\">                       </span>\n",
       "<span style=\"color: #7fbfbf; text-decoration-color: #7fbfbf\">                    </span>         To opt out of telemetry, please disable via TelemetryOptOut    <span style=\"color: #7f7f7f; text-decoration-color: #7f7f7f\">                       </span>\n",
       "<span style=\"color: #7fbfbf; text-decoration-color: #7fbfbf\">                    </span>         parameter in SDK defaults config. For more information, refer  <span style=\"color: #7f7f7f; text-decoration-color: #7f7f7f\">                       </span>\n",
       "<span style=\"color: #7fbfbf; text-decoration-color: #7fbfbf\">                    </span>         to                                                             <span style=\"color: #7f7f7f; text-decoration-color: #7f7f7f\">                       </span>\n",
       "<span style=\"color: #7fbfbf; text-decoration-color: #7fbfbf\">                    </span>         <span style=\"color: #0069ff; text-decoration-color: #0069ff; text-decoration: underline\">https://sagemaker.readthedocs.io/en/stable/overview.html#confi</span> <span style=\"color: #7f7f7f; text-decoration-color: #7f7f7f\">                       </span>\n",
       "<span style=\"color: #7fbfbf; text-decoration-color: #7fbfbf\">                    </span>         <span style=\"color: #0069ff; text-decoration-color: #0069ff; text-decoration: underline\">guring-and-using-defaults-with-the-sagemaker-python-sdk.</span>       <span style=\"color: #7f7f7f; text-decoration-color: #7f7f7f\">                       </span>\n",
       "</pre>\n"
      ],
      "text/plain": [
       "\u001b[2;36m                   \u001b[0m\u001b[2;36m \u001b[0m\u001b[1;38;2;0;105;255mINFO    \u001b[0m SageMaker Python SDK will collect telemetry to help us better  \u001b]8;id=764067;file:///home/ec2-user/anaconda3/envs/python3/lib/python3.10/site-packages/sagemaker/telemetry/telemetry_logging.py\u001b\\\u001b[2mtelemetry_logging.py\u001b[0m\u001b]8;;\u001b\\\u001b[2m:\u001b[0m\u001b]8;id=484218;file:///home/ec2-user/anaconda3/envs/python3/lib/python3.10/site-packages/sagemaker/telemetry/telemetry_logging.py#91\u001b\\\u001b[2m91\u001b[0m\u001b]8;;\u001b\\\n",
       "\u001b[2;36m                    \u001b[0m         understand our user's needs, diagnose issues, and deliver      \u001b[2m                       \u001b[0m\n",
       "\u001b[2;36m                    \u001b[0m         additional features.                                           \u001b[2m                       \u001b[0m\n",
       "\u001b[2;36m                    \u001b[0m         To opt out of telemetry, please disable via TelemetryOptOut    \u001b[2m                       \u001b[0m\n",
       "\u001b[2;36m                    \u001b[0m         parameter in SDK defaults config. For more information, refer  \u001b[2m                       \u001b[0m\n",
       "\u001b[2;36m                    \u001b[0m         to                                                             \u001b[2m                       \u001b[0m\n",
       "\u001b[2;36m                    \u001b[0m         \u001b[4;38;2;0;105;255mhttps://sagemaker.readthedocs.io/en/stable/overview.html#confi\u001b[0m \u001b[2m                       \u001b[0m\n",
       "\u001b[2;36m                    \u001b[0m         \u001b[4;38;2;0;105;255mguring-and-using-defaults-with-the-sagemaker-python-sdk.\u001b[0m       \u001b[2m                       \u001b[0m\n"
      ]
     },
     "metadata": {},
     "output_type": "display_data"
    },
    {
     "data": {
      "text/html": [
       "<pre style=\"white-space:pre;overflow-x:auto;line-height:normal;font-family:Menlo,'DejaVu Sans Mono',consolas,'Courier New',monospace\"><span style=\"color: #7fbfbf; text-decoration-color: #7fbfbf\">                    </span><span style=\"color: #0069ff; text-decoration-color: #0069ff; font-weight: bold\">INFO    </span> Creating training-job with name: blazingtext-<span style=\"color: #008080; text-decoration-color: #008080; font-weight: bold\">2025</span>-03-11-20-16-36-511   <a href=\"file:///home/ec2-user/anaconda3/envs/python3/lib/python3.10/site-packages/sagemaker/session.py\" target=\"_blank\"><span style=\"color: #7f7f7f; text-decoration-color: #7f7f7f\">session.py</span></a><span style=\"color: #7f7f7f; text-decoration-color: #7f7f7f\">:</span><a href=\"file:///home/ec2-user/anaconda3/envs/python3/lib/python3.10/site-packages/sagemaker/session.py#1042\" target=\"_blank\"><span style=\"color: #7f7f7f; text-decoration-color: #7f7f7f\">1042</span></a>\n",
       "</pre>\n"
      ],
      "text/plain": [
       "\u001b[2;36m                   \u001b[0m\u001b[2;36m \u001b[0m\u001b[1;38;2;0;105;255mINFO    \u001b[0m Creating training-job with name: blazingtext-\u001b[1;36m2025\u001b[0m-03-11-20-16-36-511   \u001b]8;id=391876;file:///home/ec2-user/anaconda3/envs/python3/lib/python3.10/site-packages/sagemaker/session.py\u001b\\\u001b[2msession.py\u001b[0m\u001b]8;;\u001b\\\u001b[2m:\u001b[0m\u001b]8;id=866554;file:///home/ec2-user/anaconda3/envs/python3/lib/python3.10/site-packages/sagemaker/session.py#1042\u001b\\\u001b[2m1042\u001b[0m\u001b]8;;\u001b\\\n"
      ]
     },
     "metadata": {},
     "output_type": "display_data"
    },
    {
     "name": "stdout",
     "output_type": "stream",
     "text": [
      "2025-03-11 20:16:38 Starting - Starting the training job...\n",
      "..25-03-11 20:16:52 Starting - Preparing the instances for training.\n",
      "..25-03-11 20:17:17 Downloading - Downloading input data.\n",
      "\u001b[34mArguments: train\u001b[0ming - Training image download completed. Training in progress..\n",
      "\u001b[34m[03/11/2025 20:18:07 WARNING 140008276313920] Loggers have already been setup.\u001b[0m\n",
      "\u001b[34m[03/11/2025 20:18:07 WARNING 140008276313920] Loggers have already been setup.\u001b[0m\n",
      "\u001b[34m/opt/amazon/python3.8/lib/python3.8/subprocess.py:848: RuntimeWarning: line buffering (buffering=1) isn't supported in binary mode, the default buffer size will be used\n",
      "  self.stdout = io.open(c2pread, 'rb', bufsize)\u001b[0m\n",
      "\u001b[34m[03/11/2025 20:18:07 INFO 140008276313920] nvidia-smi took: 0.02518153190612793 secs to identify 0 gpus\u001b[0m\n",
      "\u001b[34m[03/11/2025 20:18:07 INFO 140008276313920] Running single machine CPU BlazingText training using supervised mode.\u001b[0m\n",
      "\u001b[34mNumber of CPU sockets found in instance is  1\u001b[0m\n",
      "\u001b[34m[03/11/2025 20:18:07 INFO 140008276313920] Processing /opt/ml/input/data/train/train.txt . File size: 54.95701217651367 MB\u001b[0m\n",
      "\u001b[34m[03/11/2025 20:18:07 INFO 140008276313920] Processing /opt/ml/input/data/validation/validation.txt . File size: 13.780094146728516 MB\u001b[0m\n",
      "\u001b[34mRead 10M words\u001b[0m\n",
      "\u001b[34mRead 10M words\u001b[0m\n",
      "\u001b[34mNumber of words:  20149\u001b[0m\n",
      "\u001b[34mLoading validation data from /opt/ml/input/data/validation/validation.txt\u001b[0m\n",
      "\u001b[34mLoaded validation data.\u001b[0m\n",
      "\u001b[34m##### Alpha: 0.0980  Progress: 2.03%  Million Words/sec: 3.71 #####\u001b[0m\n",
      "\u001b[34m-------------- End of epoch: 1\u001b[0m\n",
      "\u001b[34m-------------- End of epoch: 2\u001b[0m\n",
      "\u001b[34m-------------- End of epoch: 3\u001b[0m\n",
      "\u001b[34m##### Alpha: 0.0929  Progress: 7.09%  Million Words/sec: 3.87 #####\u001b[0m\n",
      "\u001b[34m-------------- End of epoch: 4\u001b[0m\n",
      "\u001b[34m-------------- End of epoch: 5\u001b[0m\n",
      "\u001b[34mUsing 4 threads for prediction!\u001b[0m\n",
      "\u001b[34mValidation accuracy: 0.790005\u001b[0m\n",
      "\u001b[34mValidation accuracy improved! Storing best weights...\u001b[0m\n",
      "\u001b[34m-------------- End of epoch: 6\u001b[0m\n",
      "\u001b[34mUsing 4 threads for prediction!\u001b[0m\n",
      "\u001b[34mValidation accuracy: 0.819699\u001b[0m\n",
      "\u001b[34mValidation accuracy improved! Storing best weights...\u001b[0m\n",
      "\u001b[34m##### Alpha: 0.0879  Progress: 12.10%  Million Words/sec: 3.05 #####\u001b[0m\n",
      "\u001b[34m-------------- End of epoch: 7\u001b[0m\n",
      "\u001b[34mUsing 4 threads for prediction!\u001b[0m\n",
      "\u001b[34mValidation accuracy: 0.837749\u001b[0m\n",
      "\u001b[34mValidation accuracy improved! Storing best weights...\u001b[0m\n",
      "\u001b[34m-------------- End of epoch: 8\u001b[0m\n",
      "\u001b[34mUsing 4 threads for prediction!\u001b[0m\n",
      "\u001b[34mValidation accuracy: 0.855604\u001b[0m\n",
      "\u001b[34mValidation accuracy improved! Storing best weights...\u001b[0m\n",
      "\u001b[34m##### Alpha: 0.0829  Progress: 17.11%  Million Words/sec: 2.79 #####\u001b[0m\n",
      "\u001b[34m-------------- End of epoch: 9\u001b[0m\n",
      "\u001b[34mUsing 4 threads for prediction!\u001b[0m\n",
      "\u001b[34mValidation accuracy: 0.867928\u001b[0m\n",
      "\u001b[34mValidation accuracy improved! Storing best weights...\u001b[0m\n",
      "\u001b[34m-------------- End of epoch: 10\u001b[0m\n",
      "\u001b[34mUsing 4 threads for prediction!\u001b[0m\n",
      "\u001b[34mValidation accuracy: 0.880349\u001b[0m\n",
      "\u001b[34mValidation accuracy improved! Storing best weights...\u001b[0m\n",
      "\u001b[34m-------------- End of epoch: 11\u001b[0m\n",
      "\u001b[34mUsing 4 threads for prediction!\u001b[0m\n",
      "\u001b[34mValidation accuracy: 0.887627\u001b[0m\n",
      "\u001b[34mValidation accuracy improved! Storing best weights...\u001b[0m\n",
      "\u001b[34m##### Alpha: 0.0779  Progress: 22.12%  Million Words/sec: 2.53 #####\u001b[0m\n",
      "\u001b[34m-------------- End of epoch: 12\u001b[0m\n",
      "\u001b[34mUsing 4 threads for prediction!\u001b[0m\n",
      "\u001b[34mValidation accuracy: 0.88918\u001b[0m\n",
      "\u001b[34mValidation accuracy improved! Storing best weights...\u001b[0m\n",
      "\u001b[34m-------------- End of epoch: 13\u001b[0m\n",
      "\u001b[34mUsing 4 threads for prediction!\u001b[0m\n",
      "\u001b[34mValidation accuracy: 0.897234\u001b[0m\n",
      "\u001b[34mValidation accuracy improved! Storing best weights...\u001b[0m\n",
      "\u001b[34m##### Alpha: 0.0728  Progress: 27.16%  Million Words/sec: 2.49 #####\u001b[0m\n",
      "\u001b[34m-------------- End of epoch: 14\u001b[0m\n",
      "\u001b[34mUsing 4 threads for prediction!\u001b[0m\n",
      "\u001b[34mValidation accuracy: 0.901795\u001b[0m\n",
      "\u001b[34mValidation accuracy improved! Storing best weights...\u001b[0m\n",
      "\u001b[34m-------------- End of epoch: 15\u001b[0m\n",
      "\u001b[34mUsing 4 threads for prediction!\u001b[0m\n",
      "\u001b[34mValidation accuracy: 0.904609\u001b[0m\n",
      "\u001b[34mValidation accuracy improved! Storing best weights...\u001b[0m\n",
      "\u001b[34m-------------- End of epoch: 16\u001b[0m\n",
      "\u001b[34mUsing 4 threads for prediction!\u001b[0m\n",
      "\u001b[34mValidation accuracy: 0.909461\u001b[0m\n",
      "\u001b[34mValidation accuracy improved! Storing best weights...\u001b[0m\n",
      "\u001b[34m##### Alpha: 0.0678  Progress: 32.19%  Million Words/sec: 2.38 #####\u001b[0m\n",
      "\u001b[34m-------------- End of epoch: 17\u001b[0m\n",
      "\u001b[34mUsing 4 threads for prediction!\u001b[0m\n",
      "\u001b[34mValidation accuracy: 0.912082\u001b[0m\n",
      "\u001b[34mValidation accuracy improved! Storing best weights...\u001b[0m\n",
      "\u001b[34m-------------- End of epoch: 18\u001b[0m\n",
      "\u001b[34mUsing 4 threads for prediction!\u001b[0m\n",
      "\u001b[34mValidation accuracy: 0.913052\u001b[0m\n",
      "\u001b[34mValidation accuracy improved! Storing best weights...\u001b[0m\n",
      "\u001b[34m##### Alpha: 0.0628  Progress: 37.22%  Million Words/sec: 2.37 #####\u001b[0m\n",
      "\u001b[34m-------------- End of epoch: 19\u001b[0m\n",
      "\u001b[34mUsing 4 threads for prediction!\u001b[0m\n",
      "\u001b[34mValidation accuracy: 0.912664\u001b[0m\n",
      "\u001b[34mValidation accuracy has not improved for last 1 epochs.\u001b[0m\n",
      "\u001b[34m-------------- End of epoch: 20\u001b[0m\n",
      "\u001b[34mUsing 4 threads for prediction!\u001b[0m\n",
      "\u001b[34mValidation accuracy: 0.912664\u001b[0m\n",
      "\u001b[34mValidation accuracy has not improved for last 2 epochs.\u001b[0m\n",
      "\u001b[34m-------------- End of epoch: 21\u001b[0m\n",
      "\u001b[34mUsing 4 threads for prediction!\u001b[0m\n",
      "\u001b[34mValidation accuracy: 0.91509\u001b[0m\n",
      "\u001b[34mValidation accuracy improved! Storing best weights...\u001b[0m\n",
      "\u001b[34m##### Alpha: 0.0577  Progress: 42.28%  Million Words/sec: 2.40 #####\u001b[0m\n",
      "\u001b[34m-------------- End of epoch: 22\u001b[0m\n",
      "\u001b[34mUsing 4 threads for prediction!\u001b[0m\n",
      "\u001b[34mValidation accuracy: 0.917322\u001b[0m\n",
      "\u001b[34mValidation accuracy improved! Storing best weights...\u001b[0m\n",
      "\u001b[34m-------------- End of epoch: 23\u001b[0m\n",
      "\u001b[34mUsing 4 threads for prediction!\u001b[0m\n",
      "\u001b[34mValidation accuracy: 0.915672\u001b[0m\n",
      "\u001b[34mValidation accuracy has not improved for last 1 epochs.\u001b[0m\n",
      "\u001b[34m##### Alpha: 0.0527  Progress: 47.32%  Million Words/sec: 2.44 #####\u001b[0m\n",
      "\u001b[34m-------------- End of epoch: 24\u001b[0m\n",
      "\u001b[34mUsing 4 threads for prediction!\u001b[0m\n",
      "\u001b[34mValidation accuracy: 0.916739\u001b[0m\n",
      "\u001b[34mValidation accuracy has not improved for last 2 epochs.\u001b[0m\n",
      "\u001b[34m-------------- End of epoch: 25\u001b[0m\n",
      "\u001b[34mUsing 4 threads for prediction!\u001b[0m\n",
      "\u001b[34mValidation accuracy: 0.916642\u001b[0m\n",
      "\u001b[34mValidation accuracy has not improved for last 3 epochs.\u001b[0m\n",
      "\u001b[34m-------------- End of epoch: 26\u001b[0m\n",
      "\u001b[34mUsing 4 threads for prediction!\u001b[0m\n",
      "\u001b[34mValidation accuracy: 0.917807\u001b[0m\n",
      "\u001b[34mValidation accuracy improved! Storing best weights...\u001b[0m\n",
      "\u001b[34m##### Alpha: 0.0477  Progress: 52.33%  Million Words/sec: 2.45 #####\u001b[0m\n",
      "\u001b[34m-------------- End of epoch: 27\u001b[0m\n",
      "\u001b[34mUsing 4 threads for prediction!\u001b[0m\n",
      "\u001b[34mValidation accuracy: 0.918292\u001b[0m\n",
      "\u001b[34mValidation accuracy improved! Storing best weights...\u001b[0m\n",
      "\u001b[34m-------------- End of epoch: 28\u001b[0m\n",
      "\u001b[34mUsing 4 threads for prediction!\u001b[0m\n",
      "\u001b[34mValidation accuracy: 0.916448\u001b[0m\n",
      "\u001b[34mValidation accuracy has not improved for last 1 epochs.\u001b[0m\n",
      "\u001b[34m##### Alpha: 0.0427  Progress: 57.33%  Million Words/sec: 2.48 #####\u001b[0m\n",
      "\u001b[34m-------------- End of epoch: 29\u001b[0m\n",
      "\u001b[34mUsing 4 threads for prediction!\u001b[0m\n",
      "\u001b[34mValidation accuracy: 0.91771\u001b[0m\n",
      "\u001b[34mValidation accuracy has not improved for last 2 epochs.\u001b[0m\n",
      "\u001b[34m-------------- End of epoch: 30\u001b[0m\n",
      "\u001b[34mUsing 4 threads for prediction!\u001b[0m\n",
      "\u001b[34mValidation accuracy: 0.920039\u001b[0m\n",
      "\u001b[34mValidation accuracy improved! Storing best weights...\u001b[0m\n",
      "\u001b[34m-------------- End of epoch: 31\u001b[0m\n",
      "\u001b[34mUsing 4 threads for prediction!\u001b[0m\n",
      "\u001b[34mValidation accuracy: 0.918098\u001b[0m\n",
      "\u001b[34mValidation accuracy has not improved for last 1 epochs.\u001b[0m\n",
      "\u001b[34m##### Alpha: 0.0376  Progress: 62.35%  Million Words/sec: 2.49 #####\u001b[0m\n",
      "\u001b[34m-------------- End of epoch: 32\u001b[0m\n",
      "\u001b[34mUsing 4 threads for prediction!\u001b[0m\n",
      "\u001b[34mValidation accuracy: 0.918389\u001b[0m\n",
      "\u001b[34mValidation accuracy has not improved for last 2 epochs.\u001b[0m\n",
      "\u001b[34m-------------- End of epoch: 33\u001b[0m\n",
      "\u001b[34mUsing 4 threads for prediction!\u001b[0m\n",
      "\u001b[34mValidation accuracy: 0.919457\u001b[0m\n",
      "\u001b[34mValidation accuracy has not improved for last 3 epochs.\u001b[0m\n",
      "\u001b[34m##### Alpha: 0.0326  Progress: 67.41%  Million Words/sec: 2.54 #####\u001b[0m\n",
      "\u001b[34m-------------- End of epoch: 34\u001b[0m\n",
      "\u001b[34mUsing 4 threads for prediction!\u001b[0m\n",
      "\u001b[34mValidation accuracy: 0.919554\u001b[0m\n",
      "\u001b[34mValidation accuracy has not improved for last 4 epochs.\u001b[0m\n",
      "\u001b[34m-------------- End of epoch: 35\u001b[0m\n",
      "\u001b[34mUsing 4 threads for prediction!\u001b[0m\n",
      "\u001b[34mValidation accuracy: 0.919554\u001b[0m\n",
      "\u001b[34mValidation accuracy has not improved for last 5 epochs.\u001b[0m\n",
      "\u001b[34mReached patience. Terminating training.\u001b[0m\n",
      "\u001b[34mBest epoch: 30\u001b[0m\n",
      "\u001b[34mBest validation accuracy: 0.920039\u001b[0m\n",
      "\u001b[34m##### Alpha: 0.0000  Progress: 100.00%  Million Words/sec: 3.66 #####\u001b[0m\n",
      "\u001b[34mTraining finished.\u001b[0m\n",
      "\u001b[34mAverage throughput in Million words/sec: 3.66\u001b[0m\n",
      "\u001b[34mTotal training time in seconds: 138.17\u001b[0m\n",
      "\u001b[34m#train_accuracy: 0.9966\u001b[0m\n",
      "\u001b[34mNumber of train examples: 41218\u001b[0m\n",
      "\u001b[34m#validation_accuracy: 0.92\u001b[0m\n",
      "\u001b[34mNumber of validation examples: 39039\u001b[0m\n",
      "\n",
      "2025-03-11 20:20:54 Uploading - Uploading generated training model\n",
      "2025-03-11 20:21:48 Completed - Training job completed\n",
      "Training seconds: 270\n",
      "Billable seconds: 270\n"
     ]
    }
   ],
   "source": [
    "region_name = boto3.Session().region_name\n",
    "container = sagemaker.image_uris.retrieve(\n",
    "    framework='blazingtext',\n",
    "    region=region_name\n",
    ")\n",
    "\n",
    "# Enhanced hyperparameters\n",
    "hyperparams = {\n",
    "    \"mode\": \"supervised\",\n",
    "    \"epochs\": 50,\n",
    "    \"learning_rate\": 0.1,\n",
    "    \"min_count\": 2,\n",
    "    \"vector_dim\": 300,\n",
    "    \"word_ngrams\": 3,\n",
    "    \"bucket\": 200000,\n",
    "    \"early_stopping\": True,\n",
    "    \"patience\": 5,\n",
    "    \"threads\": 8  # Utilize more CPU cores\n",
    "}\n",
    "\n",
    "# Configure estimator with optimized instance\n",
    "bt_estimator = sagemaker.estimator.Estimator(\n",
    "    container,\n",
    "    role,\n",
    "    instance_count=1,\n",
    "    instance_type='ml.m5.xlarge',  # Better compute ratio\n",
    "    output_path=f's3://{bucket}/{s3_prefix}/output',\n",
    "    sagemaker_session=sagemaker_session,\n",
    "    hyperparameters=hyperparams\n",
    ")\n",
    "\n",
    "# Start training with versioned data\n",
    "bt_estimator.fit({'train': f's3://{bucket}/{s3_prefix}/train/train.txt',\n",
    "                  'validation': f's3://{bucket}/{s3_prefix}/validation/validation.txt'})"
   ]
  },
  {
   "cell_type": "markdown",
   "id": "7b4e3ab5-8dcc-4256-be61-e5eae4bfae11",
   "metadata": {},
   "source": [
    "### 7: Deploy The Model\n",
    "Create endpoint for model deployment."
   ]
  },
  {
   "cell_type": "code",
   "execution_count": 8,
   "id": "42a76399-c2da-400d-8072-2dbd719faafe",
   "metadata": {},
   "outputs": [
    {
     "data": {
      "text/html": [
       "<pre style=\"white-space:pre;overflow-x:auto;line-height:normal;font-family:Menlo,'DejaVu Sans Mono',consolas,'Courier New',monospace\"><span style=\"color: #7fbfbf; text-decoration-color: #7fbfbf\">[03/11/25 20:22:26] </span><span style=\"color: #0069ff; text-decoration-color: #0069ff; font-weight: bold\">INFO    </span> Creating model with name: blazingtext-<span style=\"color: #008080; text-decoration-color: #008080; font-weight: bold\">2025</span>-03-11-20-22-26-263          <a href=\"file:///home/ec2-user/anaconda3/envs/python3/lib/python3.10/site-packages/sagemaker/session.py\" target=\"_blank\"><span style=\"color: #7f7f7f; text-decoration-color: #7f7f7f\">session.py</span></a><span style=\"color: #7f7f7f; text-decoration-color: #7f7f7f\">:</span><a href=\"file:///home/ec2-user/anaconda3/envs/python3/lib/python3.10/site-packages/sagemaker/session.py#4094\" target=\"_blank\"><span style=\"color: #7f7f7f; text-decoration-color: #7f7f7f\">4094</span></a>\n",
       "</pre>\n"
      ],
      "text/plain": [
       "\u001b[2;36m[03/11/25 20:22:26]\u001b[0m\u001b[2;36m \u001b[0m\u001b[1;38;2;0;105;255mINFO    \u001b[0m Creating model with name: blazingtext-\u001b[1;36m2025\u001b[0m-03-11-20-22-26-263          \u001b]8;id=385852;file:///home/ec2-user/anaconda3/envs/python3/lib/python3.10/site-packages/sagemaker/session.py\u001b\\\u001b[2msession.py\u001b[0m\u001b]8;;\u001b\\\u001b[2m:\u001b[0m\u001b]8;id=60566;file:///home/ec2-user/anaconda3/envs/python3/lib/python3.10/site-packages/sagemaker/session.py#4094\u001b\\\u001b[2m4094\u001b[0m\u001b]8;;\u001b\\\n"
      ]
     },
     "metadata": {},
     "output_type": "display_data"
    },
    {
     "data": {
      "text/html": [
       "<pre style=\"white-space:pre;overflow-x:auto;line-height:normal;font-family:Menlo,'DejaVu Sans Mono',consolas,'Courier New',monospace\"><span style=\"color: #7fbfbf; text-decoration-color: #7fbfbf\">                    </span><span style=\"color: #0069ff; text-decoration-color: #0069ff; font-weight: bold\">INFO    </span> Creating endpoint-config with name complaint-classifier-<span style=\"color: #008080; text-decoration-color: #008080; font-weight: bold\">20250311</span>-<span style=\"color: #008080; text-decoration-color: #008080; font-weight: bold\">2016</span>  <a href=\"file:///home/ec2-user/anaconda3/envs/python3/lib/python3.10/site-packages/sagemaker/session.py\" target=\"_blank\"><span style=\"color: #7f7f7f; text-decoration-color: #7f7f7f\">session.py</span></a><span style=\"color: #7f7f7f; text-decoration-color: #7f7f7f\">:</span><a href=\"file:///home/ec2-user/anaconda3/envs/python3/lib/python3.10/site-packages/sagemaker/session.py#5889\" target=\"_blank\"><span style=\"color: #7f7f7f; text-decoration-color: #7f7f7f\">5889</span></a>\n",
       "</pre>\n"
      ],
      "text/plain": [
       "\u001b[2;36m                   \u001b[0m\u001b[2;36m \u001b[0m\u001b[1;38;2;0;105;255mINFO    \u001b[0m Creating endpoint-config with name complaint-classifier-\u001b[1;36m20250311\u001b[0m-\u001b[1;36m2016\u001b[0m  \u001b]8;id=730059;file:///home/ec2-user/anaconda3/envs/python3/lib/python3.10/site-packages/sagemaker/session.py\u001b\\\u001b[2msession.py\u001b[0m\u001b]8;;\u001b\\\u001b[2m:\u001b[0m\u001b]8;id=542279;file:///home/ec2-user/anaconda3/envs/python3/lib/python3.10/site-packages/sagemaker/session.py#5889\u001b\\\u001b[2m5889\u001b[0m\u001b]8;;\u001b\\\n"
      ]
     },
     "metadata": {},
     "output_type": "display_data"
    },
    {
     "data": {
      "text/html": [
       "<pre style=\"white-space:pre;overflow-x:auto;line-height:normal;font-family:Menlo,'DejaVu Sans Mono',consolas,'Courier New',monospace\"><span style=\"color: #7fbfbf; text-decoration-color: #7fbfbf\">[03/11/25 20:22:27] </span><span style=\"color: #0069ff; text-decoration-color: #0069ff; font-weight: bold\">INFO    </span> Creating endpoint with name complaint-classifier-<span style=\"color: #008080; text-decoration-color: #008080; font-weight: bold\">20250311</span>-<span style=\"color: #008080; text-decoration-color: #008080; font-weight: bold\">2016</span>         <a href=\"file:///home/ec2-user/anaconda3/envs/python3/lib/python3.10/site-packages/sagemaker/session.py\" target=\"_blank\"><span style=\"color: #7f7f7f; text-decoration-color: #7f7f7f\">session.py</span></a><span style=\"color: #7f7f7f; text-decoration-color: #7f7f7f\">:</span><a href=\"file:///home/ec2-user/anaconda3/envs/python3/lib/python3.10/site-packages/sagemaker/session.py#4711\" target=\"_blank\"><span style=\"color: #7f7f7f; text-decoration-color: #7f7f7f\">4711</span></a>\n",
       "</pre>\n"
      ],
      "text/plain": [
       "\u001b[2;36m[03/11/25 20:22:27]\u001b[0m\u001b[2;36m \u001b[0m\u001b[1;38;2;0;105;255mINFO    \u001b[0m Creating endpoint with name complaint-classifier-\u001b[1;36m20250311\u001b[0m-\u001b[1;36m2016\u001b[0m         \u001b]8;id=801215;file:///home/ec2-user/anaconda3/envs/python3/lib/python3.10/site-packages/sagemaker/session.py\u001b\\\u001b[2msession.py\u001b[0m\u001b]8;;\u001b\\\u001b[2m:\u001b[0m\u001b]8;id=254779;file:///home/ec2-user/anaconda3/envs/python3/lib/python3.10/site-packages/sagemaker/session.py#4711\u001b\\\u001b[2m4711\u001b[0m\u001b]8;;\u001b\\\n"
      ]
     },
     "metadata": {},
     "output_type": "display_data"
    },
    {
     "name": "stdout",
     "output_type": "stream",
     "text": [
      "-----!"
     ]
    },
    {
     "data": {
      "text/plain": [
       "{'ScalableTargetARN': 'arn:aws:application-autoscaling:us-east-1:922202922528:scalable-target/056m683b2a64e2174c19870c2dbc8c9460de',\n",
       " 'ResponseMetadata': {'RequestId': 'f7ef4341-e119-4860-bd6b-49134297cdce',\n",
       "  'HTTPStatusCode': 200,\n",
       "  'HTTPHeaders': {'x-amzn-requestid': 'f7ef4341-e119-4860-bd6b-49134297cdce',\n",
       "   'content-type': 'application/x-amz-json-1.1',\n",
       "   'content-length': '131',\n",
       "   'date': 'Tue, 11 Mar 2025 20:25:29 GMT'},\n",
       "  'RetryAttempts': 0}}"
      ]
     },
     "execution_count": 8,
     "metadata": {},
     "output_type": "execute_result"
    }
   ],
   "source": [
    "bt_predictor = bt_estimator.deploy(\n",
    "    initial_instance_count=1,\n",
    "    instance_type='ml.m5.xlarge',\n",
    "    serializer=JSONSerializer(),\n",
    "    deserializer=JSONDeserializer(),\n",
    "    endpoint_name=f'complaint-classifier-{version}'\n",
    ")\n",
    "\n",
    "# Configure auto-scaling\n",
    "client = boto3.client('application-autoscaling')\n",
    "client.register_scalable_target(\n",
    "    ServiceNamespace='sagemaker',\n",
    "    ResourceId=f'endpoint/complaint-classifier-{version}/variant/AllTraffic',\n",
    "    ScalableDimension='sagemaker:variant:DesiredInstanceCount',\n",
    "    MinCapacity=1,\n",
    "    MaxCapacity=3\n",
    ")"
   ]
  },
  {
   "cell_type": "markdown",
   "id": "b6834d95-8a61-4f03-93c7-984f91d531e9",
   "metadata": {},
   "source": [
    "### 8: Query Model\n",
    "Show how business can use model to predict category of customer complaint based on the text.\n",
    "In this example the customer complaint *\"I have issues with my credit card payment being processed incorrectly.\"* is catagorized as *Credit card or prepaid card* with 93% probability."
   ]
  },
  {
   "cell_type": "code",
   "execution_count": 9,
   "id": "f0f6ce71-60ba-4866-961b-9a08f05ca8a7",
   "metadata": {},
   "outputs": [
    {
     "name": "stdout",
     "output_type": "stream",
     "text": [
      "--- Complaint Text ---\n",
      "I have issues with my credit card payment being processed incorrectly.\n",
      "\n",
      "--- Predicted Categories (Top 5) ---\n",
      "Rank 1: Credit card or prepaid card    95.84%\n",
      "Rank 2: Credit reporting, credit repair services, or other personal consumer reports 3.76%\n",
      "Rank 3: Credit card                    0.30%\n",
      "Rank 4: Debt collection                0.10%\n",
      "Rank 5: Money transfer, virtual currency, or money service 0.00%\n"
     ]
    }
   ],
   "source": [
    "# Create test complaint\n",
    "sample_complaint = \"I have issues with my credit card payment being processed incorrectly.\"\n",
    "\n",
    "# Get predictions for top 5 categories\n",
    "prediction = bt_predictor.predict({\n",
    "    \"instances\": [sample_complaint],\n",
    "    \"configuration\": {\"k\": 5}\n",
    "})\n",
    "\n",
    "# Process results\n",
    "print(\"--- Complaint Text ---\")\n",
    "print(sample_complaint)\n",
    "print(f\"\\n--- Predicted Categories (Top 5) ---\")\n",
    "\n",
    "labels = prediction[0]['label']\n",
    "probs = prediction[0]['prob']\n",
    "\n",
    "for rank, (label, prob) in enumerate(zip(labels, probs), 1):\n",
    "    clean_label = label.replace('__label__', '').replace('_', ' ')\n",
    "    print(f\"Rank {rank}: {clean_label.ljust(30)} {prob*100:.2f}%\")"
   ]
  },
  {
   "cell_type": "markdown",
   "id": "06c050cf-5f8d-43d3-818a-746fe7fffd49",
   "metadata": {},
   "source": [
    "### 9: Clean Up\n",
    "Delete endpoint to avoid ongoing charges."
   ]
  },
  {
   "cell_type": "code",
   "execution_count": 10,
   "id": "d00d7f11-bd8d-4e52-b6b4-98b1b91d2dc8",
   "metadata": {
    "scrolled": true
   },
   "outputs": [
    {
     "data": {
      "text/html": [
       "<pre style=\"white-space:pre;overflow-x:auto;line-height:normal;font-family:Menlo,'DejaVu Sans Mono',consolas,'Courier New',monospace\"><span style=\"color: #7fbfbf; text-decoration-color: #7fbfbf\">[03/11/25 20:25:29] </span><span style=\"color: #0069ff; text-decoration-color: #0069ff; font-weight: bold\">INFO    </span> Deleting model with name: blazingtext-<span style=\"color: #008080; text-decoration-color: #008080; font-weight: bold\">2025</span>-03-11-20-22-26-263          <a href=\"file:///home/ec2-user/anaconda3/envs/python3/lib/python3.10/site-packages/sagemaker/session.py\" target=\"_blank\"><span style=\"color: #7f7f7f; text-decoration-color: #7f7f7f\">session.py</span></a><span style=\"color: #7f7f7f; text-decoration-color: #7f7f7f\">:</span><a href=\"file:///home/ec2-user/anaconda3/envs/python3/lib/python3.10/site-packages/sagemaker/session.py#5226\" target=\"_blank\"><span style=\"color: #7f7f7f; text-decoration-color: #7f7f7f\">5226</span></a>\n",
       "</pre>\n"
      ],
      "text/plain": [
       "\u001b[2;36m[03/11/25 20:25:29]\u001b[0m\u001b[2;36m \u001b[0m\u001b[1;38;2;0;105;255mINFO    \u001b[0m Deleting model with name: blazingtext-\u001b[1;36m2025\u001b[0m-03-11-20-22-26-263          \u001b]8;id=567895;file:///home/ec2-user/anaconda3/envs/python3/lib/python3.10/site-packages/sagemaker/session.py\u001b\\\u001b[2msession.py\u001b[0m\u001b]8;;\u001b\\\u001b[2m:\u001b[0m\u001b]8;id=151107;file:///home/ec2-user/anaconda3/envs/python3/lib/python3.10/site-packages/sagemaker/session.py#5226\u001b\\\u001b[2m5226\u001b[0m\u001b]8;;\u001b\\\n"
      ]
     },
     "metadata": {},
     "output_type": "display_data"
    },
    {
     "data": {
      "text/html": [
       "<pre style=\"white-space:pre;overflow-x:auto;line-height:normal;font-family:Menlo,'DejaVu Sans Mono',consolas,'Courier New',monospace\"><span style=\"color: #7fbfbf; text-decoration-color: #7fbfbf\">                    </span><span style=\"color: #0069ff; text-decoration-color: #0069ff; font-weight: bold\">INFO    </span> Deleting endpoint configuration with name:                             <a href=\"file:///home/ec2-user/anaconda3/envs/python3/lib/python3.10/site-packages/sagemaker/session.py\" target=\"_blank\"><span style=\"color: #7f7f7f; text-decoration-color: #7f7f7f\">session.py</span></a><span style=\"color: #7f7f7f; text-decoration-color: #7f7f7f\">:</span><a href=\"file:///home/ec2-user/anaconda3/envs/python3/lib/python3.10/site-packages/sagemaker/session.py#4865\" target=\"_blank\"><span style=\"color: #7f7f7f; text-decoration-color: #7f7f7f\">4865</span></a>\n",
       "<span style=\"color: #7fbfbf; text-decoration-color: #7fbfbf\">                    </span>         complaint-classifier-<span style=\"color: #008080; text-decoration-color: #008080; font-weight: bold\">20250311</span>-<span style=\"color: #008080; text-decoration-color: #008080; font-weight: bold\">2016</span>                                     <span style=\"color: #7f7f7f; text-decoration-color: #7f7f7f\">               </span>\n",
       "</pre>\n"
      ],
      "text/plain": [
       "\u001b[2;36m                   \u001b[0m\u001b[2;36m \u001b[0m\u001b[1;38;2;0;105;255mINFO    \u001b[0m Deleting endpoint configuration with name:                             \u001b]8;id=683775;file:///home/ec2-user/anaconda3/envs/python3/lib/python3.10/site-packages/sagemaker/session.py\u001b\\\u001b[2msession.py\u001b[0m\u001b]8;;\u001b\\\u001b[2m:\u001b[0m\u001b]8;id=215691;file:///home/ec2-user/anaconda3/envs/python3/lib/python3.10/site-packages/sagemaker/session.py#4865\u001b\\\u001b[2m4865\u001b[0m\u001b]8;;\u001b\\\n",
       "\u001b[2;36m                    \u001b[0m         complaint-classifier-\u001b[1;36m20250311\u001b[0m-\u001b[1;36m2016\u001b[0m                                     \u001b[2m               \u001b[0m\n"
      ]
     },
     "metadata": {},
     "output_type": "display_data"
    },
    {
     "data": {
      "text/html": [
       "<pre style=\"white-space:pre;overflow-x:auto;line-height:normal;font-family:Menlo,'DejaVu Sans Mono',consolas,'Courier New',monospace\"><span style=\"color: #7fbfbf; text-decoration-color: #7fbfbf\">[03/11/25 20:25:30] </span><span style=\"color: #0069ff; text-decoration-color: #0069ff; font-weight: bold\">INFO    </span> Deleting endpoint with name: complaint-classifier-<span style=\"color: #008080; text-decoration-color: #008080; font-weight: bold\">20250311</span>-<span style=\"color: #008080; text-decoration-color: #008080; font-weight: bold\">2016</span>        <a href=\"file:///home/ec2-user/anaconda3/envs/python3/lib/python3.10/site-packages/sagemaker/session.py\" target=\"_blank\"><span style=\"color: #7f7f7f; text-decoration-color: #7f7f7f\">session.py</span></a><span style=\"color: #7f7f7f; text-decoration-color: #7f7f7f\">:</span><a href=\"file:///home/ec2-user/anaconda3/envs/python3/lib/python3.10/site-packages/sagemaker/session.py#4855\" target=\"_blank\"><span style=\"color: #7f7f7f; text-decoration-color: #7f7f7f\">4855</span></a>\n",
       "</pre>\n"
      ],
      "text/plain": [
       "\u001b[2;36m[03/11/25 20:25:30]\u001b[0m\u001b[2;36m \u001b[0m\u001b[1;38;2;0;105;255mINFO    \u001b[0m Deleting endpoint with name: complaint-classifier-\u001b[1;36m20250311\u001b[0m-\u001b[1;36m2016\u001b[0m        \u001b]8;id=245152;file:///home/ec2-user/anaconda3/envs/python3/lib/python3.10/site-packages/sagemaker/session.py\u001b\\\u001b[2msession.py\u001b[0m\u001b]8;;\u001b\\\u001b[2m:\u001b[0m\u001b]8;id=957770;file:///home/ec2-user/anaconda3/envs/python3/lib/python3.10/site-packages/sagemaker/session.py#4855\u001b\\\u001b[2m4855\u001b[0m\u001b]8;;\u001b\\\n"
      ]
     },
     "metadata": {},
     "output_type": "display_data"
    }
   ],
   "source": [
    "# Delete endpoint & model to avoid ongoing charges\n",
    "bt_predictor.delete_model()\n",
    "bt_predictor.delete_endpoint()"
   ]
  }
 ],
 "metadata": {
  "kernelspec": {
   "display_name": "conda_python3",
   "language": "python",
   "name": "conda_python3"
  },
  "language_info": {
   "codemirror_mode": {
    "name": "ipython",
    "version": 3
   },
   "file_extension": ".py",
   "mimetype": "text/x-python",
   "name": "python",
   "nbconvert_exporter": "python",
   "pygments_lexer": "ipython3",
   "version": "3.10.16"
  }
 },
 "nbformat": 4,
 "nbformat_minor": 5
}
