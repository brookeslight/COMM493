{
 "cells": [
  {
   "cell_type": "markdown",
   "id": "e801ff05-459e-43e4-8858-173a2117b66c",
   "metadata": {},
   "source": [
    "<b><h2 style=\"text-align:center;\">COMM493 - Coding AI for Business</h2></b>\n",
    "<h5 style=\"text-align:center;\">Assignment 2 - Text Classification Via Natural Language Processing</h5>\n",
    "<h5 style=\"text-align:center;\">Maxwell Brookes - 20244724</h5>\n",
    "<h5 style=\"text-align:center;\">March 1st, 2025</h5>"
   ]
  },
  {
   "cell_type": "markdown",
   "id": "d23a443c-fa64-4dd9-88f6-fc875a866047",
   "metadata": {},
   "source": [
    "### Introduction\n",
    "**Motivation:** TODO\n",
    "\n",
    "**Data:** <a href=\"https://www.kaggle.com/datasets/abhishek14398/automatic-ticket-classification-dataset/\">Automatic Ticket Classification Dataset</a> dataset contains ...\n",
    "<a href=\"https://www.kaggle.com/code/abhishek14398/automatic-ticket-classification-case-study-nlp\">implemenmtation</a>\n",
    "\n",
    "\n",
    "**Goal:** Map each ticket onto its respective department/category. You can then use this data to train any supervised model such as logistic regression, decision tree or random forest. Using this trained model, you can classify any new customer complaint support ticket into its relevant department."
   ]
  },
  {
   "cell_type": "markdown",
   "id": "e0a2e764-1a86-4a5f-a53c-2559dfa29455",
   "metadata": {},
   "source": [
    "### 0: Set Up Environment"
   ]
  },
  {
   "cell_type": "code",
   "execution_count": 1,
   "id": "b9d31baf-ca91-4325-9599-f6baf8a51526",
   "metadata": {},
   "outputs": [
    {
     "name": "stderr",
     "output_type": "stream",
     "text": [
      "/home/ec2-user/anaconda3/envs/python3/lib/python3.10/site-packages/pydantic/_internal/_fields.py:192: UserWarning: Field name \"json\" in \"MonitoringDatasetFormat\" shadows an attribute in parent \"Base\"\n",
      "  warnings.warn(\n"
     ]
    },
    {
     "data": {
      "text/html": [
       "<pre style=\"white-space:pre;overflow-x:auto;line-height:normal;font-family:Menlo,'DejaVu Sans Mono',consolas,'Courier New',monospace\"><span style=\"color: #7fbfbf; text-decoration-color: #7fbfbf\">[03/09/25 23:07:27] </span><span style=\"color: #0069ff; text-decoration-color: #0069ff; font-weight: bold\">INFO    </span> Found credentials from IAM Role:                                   <a href=\"file:///home/ec2-user/anaconda3/envs/python3/lib/python3.10/site-packages/botocore/credentials.py\" target=\"_blank\"><span style=\"color: #7f7f7f; text-decoration-color: #7f7f7f\">credentials.py</span></a><span style=\"color: #7f7f7f; text-decoration-color: #7f7f7f\">:</span><a href=\"file:///home/ec2-user/anaconda3/envs/python3/lib/python3.10/site-packages/botocore/credentials.py#1132\" target=\"_blank\"><span style=\"color: #7f7f7f; text-decoration-color: #7f7f7f\">1132</span></a>\n",
       "<span style=\"color: #7fbfbf; text-decoration-color: #7fbfbf\">                    </span>         BaseNotebookInstanceEc2InstanceRole                                <span style=\"color: #7f7f7f; text-decoration-color: #7f7f7f\">                   </span>\n",
       "</pre>\n"
      ],
      "text/plain": [
       "\u001b[2;36m[03/09/25 23:07:27]\u001b[0m\u001b[2;36m \u001b[0m\u001b[1;38;2;0;105;255mINFO    \u001b[0m Found credentials from IAM Role:                                   \u001b]8;id=108516;file:///home/ec2-user/anaconda3/envs/python3/lib/python3.10/site-packages/botocore/credentials.py\u001b\\\u001b[2mcredentials.py\u001b[0m\u001b]8;;\u001b\\\u001b[2m:\u001b[0m\u001b]8;id=131757;file:///home/ec2-user/anaconda3/envs/python3/lib/python3.10/site-packages/botocore/credentials.py#1132\u001b\\\u001b[2m1132\u001b[0m\u001b]8;;\u001b\\\n",
       "\u001b[2;36m                    \u001b[0m         BaseNotebookInstanceEc2InstanceRole                                \u001b[2m                   \u001b[0m\n"
      ]
     },
     "metadata": {},
     "output_type": "display_data"
    },
    {
     "name": "stdout",
     "output_type": "stream",
     "text": [
      "sagemaker.config INFO - Not applying SDK defaults from location: /etc/xdg/sagemaker/config.yaml\n",
      "sagemaker.config INFO - Not applying SDK defaults from location: /home/ec2-user/.config/sagemaker/config.yaml\n"
     ]
    },
    {
     "data": {
      "text/html": [
       "<pre style=\"white-space:pre;overflow-x:auto;line-height:normal;font-family:Menlo,'DejaVu Sans Mono',consolas,'Courier New',monospace\"><span style=\"color: #7fbfbf; text-decoration-color: #7fbfbf\">                    </span><span style=\"color: #0069ff; text-decoration-color: #0069ff; font-weight: bold\">INFO    </span> Found credentials from IAM Role:                                   <a href=\"file:///home/ec2-user/anaconda3/envs/python3/lib/python3.10/site-packages/botocore/credentials.py\" target=\"_blank\"><span style=\"color: #7f7f7f; text-decoration-color: #7f7f7f\">credentials.py</span></a><span style=\"color: #7f7f7f; text-decoration-color: #7f7f7f\">:</span><a href=\"file:///home/ec2-user/anaconda3/envs/python3/lib/python3.10/site-packages/botocore/credentials.py#1132\" target=\"_blank\"><span style=\"color: #7f7f7f; text-decoration-color: #7f7f7f\">1132</span></a>\n",
       "<span style=\"color: #7fbfbf; text-decoration-color: #7fbfbf\">                    </span>         BaseNotebookInstanceEc2InstanceRole                                <span style=\"color: #7f7f7f; text-decoration-color: #7f7f7f\">                   </span>\n",
       "</pre>\n"
      ],
      "text/plain": [
       "\u001b[2;36m                   \u001b[0m\u001b[2;36m \u001b[0m\u001b[1;38;2;0;105;255mINFO    \u001b[0m Found credentials from IAM Role:                                   \u001b]8;id=685646;file:///home/ec2-user/anaconda3/envs/python3/lib/python3.10/site-packages/botocore/credentials.py\u001b\\\u001b[2mcredentials.py\u001b[0m\u001b]8;;\u001b\\\u001b[2m:\u001b[0m\u001b]8;id=622214;file:///home/ec2-user/anaconda3/envs/python3/lib/python3.10/site-packages/botocore/credentials.py#1132\u001b\\\u001b[2m1132\u001b[0m\u001b]8;;\u001b\\\n",
       "\u001b[2;36m                    \u001b[0m         BaseNotebookInstanceEc2InstanceRole                                \u001b[2m                   \u001b[0m\n"
      ]
     },
     "metadata": {},
     "output_type": "display_data"
    },
    {
     "data": {
      "text/html": [
       "<pre style=\"white-space:pre;overflow-x:auto;line-height:normal;font-family:Menlo,'DejaVu Sans Mono',consolas,'Courier New',monospace\"><span style=\"color: #7fbfbf; text-decoration-color: #7fbfbf\">                    </span><span style=\"color: #0069ff; text-decoration-color: #0069ff; font-weight: bold\">INFO    </span> Found credentials from IAM Role:                                   <a href=\"file:///home/ec2-user/anaconda3/envs/python3/lib/python3.10/site-packages/botocore/credentials.py\" target=\"_blank\"><span style=\"color: #7f7f7f; text-decoration-color: #7f7f7f\">credentials.py</span></a><span style=\"color: #7f7f7f; text-decoration-color: #7f7f7f\">:</span><a href=\"file:///home/ec2-user/anaconda3/envs/python3/lib/python3.10/site-packages/botocore/credentials.py#1132\" target=\"_blank\"><span style=\"color: #7f7f7f; text-decoration-color: #7f7f7f\">1132</span></a>\n",
       "<span style=\"color: #7fbfbf; text-decoration-color: #7fbfbf\">                    </span>         BaseNotebookInstanceEc2InstanceRole                                <span style=\"color: #7f7f7f; text-decoration-color: #7f7f7f\">                   </span>\n",
       "</pre>\n"
      ],
      "text/plain": [
       "\u001b[2;36m                   \u001b[0m\u001b[2;36m \u001b[0m\u001b[1;38;2;0;105;255mINFO    \u001b[0m Found credentials from IAM Role:                                   \u001b]8;id=960768;file:///home/ec2-user/anaconda3/envs/python3/lib/python3.10/site-packages/botocore/credentials.py\u001b\\\u001b[2mcredentials.py\u001b[0m\u001b]8;;\u001b\\\u001b[2m:\u001b[0m\u001b]8;id=523303;file:///home/ec2-user/anaconda3/envs/python3/lib/python3.10/site-packages/botocore/credentials.py#1132\u001b\\\u001b[2m1132\u001b[0m\u001b]8;;\u001b\\\n",
       "\u001b[2;36m                    \u001b[0m         BaseNotebookInstanceEc2InstanceRole                                \u001b[2m                   \u001b[0m\n"
      ]
     },
     "metadata": {},
     "output_type": "display_data"
    }
   ],
   "source": [
    "from datetime import datetime\n",
    "import pandas as pd\n",
    "import json\n",
    "import re\n",
    "import string\n",
    "from sklearn.model_selection import train_test_split\n",
    "from sklearn.utils import resample\n",
    "import numpy as np\n",
    "from sagemaker.serializers import JSONSerializer\n",
    "from sagemaker.deserializers import JSONDeserializer\n",
    "import sagemaker\n",
    "import boto3\n",
    "from sagemaker import get_execution_role\n",
    "from sagemaker.amazon.amazon_estimator import get_image_uri\n",
    "\n",
    "# Initialize SageMaker\n",
    "sagemaker_session = sagemaker.Session()\n",
    "role = get_execution_role()\n",
    "bucket = sagemaker_session.default_bucket()\n",
    "prefix = 'complaints-classification-optimized'\n",
    "\n",
    "# Precompile regex patterns\n",
    "REDACTION_PATTERNS = re.compile(\n",
    "    r'\\b(?:X+X|X{2,}(?:/X{2,})+|\\d+[-/]?X+|X+[-/]?\\d+|X{4,})\\b', \n",
    "    flags=re.IGNORECASE\n",
    ")\n",
    "CLEANING_PATTERNS = [\n",
    "    (re.compile(r'(\\\\[nt])+'), ' '),\n",
    "    (re.compile(r'\\$ ?(\\d+)'), r'\\1 dollars'),\n",
    "    (re.compile(r'\\b(\\d+)(?:st|nd|rd|th)\\b'), r'\\1'),\n",
    "    (re.compile(r'[^\\w\\s]'), '')\n",
    "]"
   ]
  },
  {
   "cell_type": "markdown",
   "id": "bd8ac21d-e623-4b6e-ae91-5ad6e9b73fde",
   "metadata": {},
   "source": [
    "<b><h2 style=\"text-align:center;\">DATA PREPROCESSING</h2></b>"
   ]
  },
  {
   "cell_type": "markdown",
   "id": "9d270306-39a5-4d2c-9876-619f65138a40",
   "metadata": {},
   "source": [
    "### 1: Load dataset"
   ]
  },
  {
   "cell_type": "code",
   "execution_count": 2,
   "id": "77a18da1-cd80-47d1-a513-28ee3b057102",
   "metadata": {},
   "outputs": [
    {
     "data": {
      "text/html": [
       "<pre style=\"white-space:pre;overflow-x:auto;line-height:normal;font-family:Menlo,'DejaVu Sans Mono',consolas,'Courier New',monospace\"><span style=\"color: #ff0000; text-decoration-color: #ff0000\">╭─────────────────────────────── </span><span style=\"color: #ff0000; text-decoration-color: #ff0000; font-weight: bold\">Traceback </span><span style=\"color: #ff7f7f; text-decoration-color: #ff7f7f; font-weight: bold\">(most recent call last)</span><span style=\"color: #ff0000; text-decoration-color: #ff0000\"> ────────────────────────────────╮</span>\n",
       "<span style=\"color: #ff0000; text-decoration-color: #ff0000\">│</span> in <span style=\"color: #00ff00; text-decoration-color: #00ff00\">&lt;module&gt;</span>:<span style=\"color: #0000ff; text-decoration-color: #0000ff\">2</span>                                                                                    <span style=\"color: #ff0000; text-decoration-color: #ff0000\">│</span>\n",
       "<span style=\"color: #ff0000; text-decoration-color: #ff0000\">│</span>                                                                                                  <span style=\"color: #ff0000; text-decoration-color: #ff0000\">│</span>\n",
       "<span style=\"color: #ff0000; text-decoration-color: #ff0000\">│</span>   <span style=\"color: #7f7f7f; text-decoration-color: #7f7f7f\">1 </span><span style=\"color: #0000ff; text-decoration-color: #0000ff\">with</span> <span style=\"color: #00ffff; text-decoration-color: #00ffff\">open</span>(<span style=\"color: #808000; text-decoration-color: #808000\">'complaints.json'</span>, <span style=\"color: #808000; text-decoration-color: #808000\">'r'</span>) <span style=\"color: #0000ff; text-decoration-color: #0000ff\">as</span> f:                                                      <span style=\"color: #ff0000; text-decoration-color: #ff0000\">│</span>\n",
       "<span style=\"color: #ff0000; text-decoration-color: #ff0000\">│</span> <span style=\"color: #800000; text-decoration-color: #800000\">❱ </span>2 <span style=\"color: #7f7f7f; text-decoration-color: #7f7f7f\">│   </span>data = json.load(f)                                                                      <span style=\"color: #ff0000; text-decoration-color: #ff0000\">│</span>\n",
       "<span style=\"color: #ff0000; text-decoration-color: #ff0000\">│</span>   <span style=\"color: #7f7f7f; text-decoration-color: #7f7f7f\">3 </span>df = pd.json_normalize(data)                                                                 <span style=\"color: #ff0000; text-decoration-color: #ff0000\">│</span>\n",
       "<span style=\"color: #ff0000; text-decoration-color: #ff0000\">│</span>   <span style=\"color: #7f7f7f; text-decoration-color: #7f7f7f\">4 </span><span style=\"color: #00ffff; text-decoration-color: #00ffff\">print</span>(<span style=\"color: #808000; text-decoration-color: #808000\">'Data Shape:'</span>, df.shape)                                                               <span style=\"color: #ff0000; text-decoration-color: #ff0000\">│</span>\n",
       "<span style=\"color: #ff0000; text-decoration-color: #ff0000\">│</span>   <span style=\"color: #7f7f7f; text-decoration-color: #7f7f7f\">5 </span>                                                                                             <span style=\"color: #ff0000; text-decoration-color: #ff0000\">│</span>\n",
       "<span style=\"color: #ff0000; text-decoration-color: #ff0000\">│</span>                                                                                                  <span style=\"color: #ff0000; text-decoration-color: #ff0000\">│</span>\n",
       "<span style=\"color: #ff0000; text-decoration-color: #ff0000\">│</span> <span style=\"color: #bfbf7f; text-decoration-color: #bfbf7f\">/home/ec2-user/anaconda3/envs/python3/lib/python3.10/json/</span><span style=\"color: #808000; text-decoration-color: #808000; font-weight: bold\">__init__.py</span>:<span style=\"color: #0000ff; text-decoration-color: #0000ff\">293</span> in <span style=\"color: #00ff00; text-decoration-color: #00ff00\">load</span>                <span style=\"color: #ff0000; text-decoration-color: #ff0000\">│</span>\n",
       "<span style=\"color: #ff0000; text-decoration-color: #ff0000\">│</span>                                                                                                  <span style=\"color: #ff0000; text-decoration-color: #ff0000\">│</span>\n",
       "<span style=\"color: #ff0000; text-decoration-color: #ff0000\">│</span>   <span style=\"color: #7f7f7f; text-decoration-color: #7f7f7f\">290 </span><span style=\"color: #bfbf7f; text-decoration-color: #bfbf7f\">│   </span><span style=\"color: #808000; text-decoration-color: #808000\">To use a custom ``JSONDecoder`` subclass, specify it with the ``cls``</span>                  <span style=\"color: #ff0000; text-decoration-color: #ff0000\">│</span>\n",
       "<span style=\"color: #ff0000; text-decoration-color: #ff0000\">│</span>   <span style=\"color: #7f7f7f; text-decoration-color: #7f7f7f\">291 </span><span style=\"color: #bfbf7f; text-decoration-color: #bfbf7f\">│   </span><span style=\"color: #808000; text-decoration-color: #808000\">kwarg; otherwise ``JSONDecoder`` is used.</span>                                              <span style=\"color: #ff0000; text-decoration-color: #ff0000\">│</span>\n",
       "<span style=\"color: #ff0000; text-decoration-color: #ff0000\">│</span>   <span style=\"color: #7f7f7f; text-decoration-color: #7f7f7f\">292 </span><span style=\"color: #bfbf7f; text-decoration-color: #bfbf7f\">│   </span><span style=\"color: #808000; text-decoration-color: #808000\">\"\"\"</span>                                                                                    <span style=\"color: #ff0000; text-decoration-color: #ff0000\">│</span>\n",
       "<span style=\"color: #ff0000; text-decoration-color: #ff0000\">│</span> <span style=\"color: #800000; text-decoration-color: #800000\">❱ </span>293 <span style=\"color: #7f7f7f; text-decoration-color: #7f7f7f\">│   </span><span style=\"color: #0000ff; text-decoration-color: #0000ff\">return</span> loads(fp.read(),                                                                <span style=\"color: #ff0000; text-decoration-color: #ff0000\">│</span>\n",
       "<span style=\"color: #ff0000; text-decoration-color: #ff0000\">│</span>   <span style=\"color: #7f7f7f; text-decoration-color: #7f7f7f\">294 </span><span style=\"color: #7f7f7f; text-decoration-color: #7f7f7f\">│   │   </span><span style=\"color: #00ffff; text-decoration-color: #00ffff\">cls</span>=<span style=\"color: #00ffff; text-decoration-color: #00ffff\">cls</span>, object_hook=object_hook,                                                  <span style=\"color: #ff0000; text-decoration-color: #ff0000\">│</span>\n",
       "<span style=\"color: #ff0000; text-decoration-color: #ff0000\">│</span>   <span style=\"color: #7f7f7f; text-decoration-color: #7f7f7f\">295 </span><span style=\"color: #7f7f7f; text-decoration-color: #7f7f7f\">│   │   </span>parse_float=parse_float, parse_int=parse_int,                                      <span style=\"color: #ff0000; text-decoration-color: #ff0000\">│</span>\n",
       "<span style=\"color: #ff0000; text-decoration-color: #ff0000\">│</span>   <span style=\"color: #7f7f7f; text-decoration-color: #7f7f7f\">296 </span><span style=\"color: #7f7f7f; text-decoration-color: #7f7f7f\">│   │   </span>parse_constant=parse_constant, object_pairs_hook=object_pairs_hook, **kw)          <span style=\"color: #ff0000; text-decoration-color: #ff0000\">│</span>\n",
       "<span style=\"color: #ff0000; text-decoration-color: #ff0000\">│</span>                                                                                                  <span style=\"color: #ff0000; text-decoration-color: #ff0000\">│</span>\n",
       "<span style=\"color: #ff0000; text-decoration-color: #ff0000\">│</span> <span style=\"color: #bfbf7f; text-decoration-color: #bfbf7f\">/home/ec2-user/anaconda3/envs/python3/lib/python3.10/json/</span><span style=\"color: #808000; text-decoration-color: #808000; font-weight: bold\">__init__.py</span>:<span style=\"color: #0000ff; text-decoration-color: #0000ff\">346</span> in <span style=\"color: #00ff00; text-decoration-color: #00ff00\">loads</span>               <span style=\"color: #ff0000; text-decoration-color: #ff0000\">│</span>\n",
       "<span style=\"color: #ff0000; text-decoration-color: #ff0000\">│</span>                                                                                                  <span style=\"color: #ff0000; text-decoration-color: #ff0000\">│</span>\n",
       "<span style=\"color: #ff0000; text-decoration-color: #ff0000\">│</span>   <span style=\"color: #7f7f7f; text-decoration-color: #7f7f7f\">343 </span><span style=\"color: #7f7f7f; text-decoration-color: #7f7f7f\">│   </span><span style=\"color: #0000ff; text-decoration-color: #0000ff\">if</span> (<span style=\"color: #00ffff; text-decoration-color: #00ffff\">cls</span> <span style=\"color: #ff00ff; text-decoration-color: #ff00ff\">is</span> <span style=\"color: #0000ff; text-decoration-color: #0000ff\">None</span> <span style=\"color: #ff00ff; text-decoration-color: #ff00ff\">and</span> object_hook <span style=\"color: #ff00ff; text-decoration-color: #ff00ff\">is</span> <span style=\"color: #0000ff; text-decoration-color: #0000ff\">None</span> <span style=\"color: #ff00ff; text-decoration-color: #ff00ff\">and</span>                                            <span style=\"color: #ff0000; text-decoration-color: #ff0000\">│</span>\n",
       "<span style=\"color: #ff0000; text-decoration-color: #ff0000\">│</span>   <span style=\"color: #7f7f7f; text-decoration-color: #7f7f7f\">344 </span><span style=\"color: #7f7f7f; text-decoration-color: #7f7f7f\">│   │   │   </span>parse_int <span style=\"color: #ff00ff; text-decoration-color: #ff00ff\">is</span> <span style=\"color: #0000ff; text-decoration-color: #0000ff\">None</span> <span style=\"color: #ff00ff; text-decoration-color: #ff00ff\">and</span> parse_float <span style=\"color: #ff00ff; text-decoration-color: #ff00ff\">is</span> <span style=\"color: #0000ff; text-decoration-color: #0000ff\">None</span> <span style=\"color: #ff00ff; text-decoration-color: #ff00ff\">and</span>                                  <span style=\"color: #ff0000; text-decoration-color: #ff0000\">│</span>\n",
       "<span style=\"color: #ff0000; text-decoration-color: #ff0000\">│</span>   <span style=\"color: #7f7f7f; text-decoration-color: #7f7f7f\">345 </span><span style=\"color: #7f7f7f; text-decoration-color: #7f7f7f\">│   │   │   </span>parse_constant <span style=\"color: #ff00ff; text-decoration-color: #ff00ff\">is</span> <span style=\"color: #0000ff; text-decoration-color: #0000ff\">None</span> <span style=\"color: #ff00ff; text-decoration-color: #ff00ff\">and</span> object_pairs_hook <span style=\"color: #ff00ff; text-decoration-color: #ff00ff\">is</span> <span style=\"color: #0000ff; text-decoration-color: #0000ff\">None</span> <span style=\"color: #ff00ff; text-decoration-color: #ff00ff\">and</span> <span style=\"color: #ff00ff; text-decoration-color: #ff00ff\">not</span> kw):              <span style=\"color: #ff0000; text-decoration-color: #ff0000\">│</span>\n",
       "<span style=\"color: #ff0000; text-decoration-color: #ff0000\">│</span> <span style=\"color: #800000; text-decoration-color: #800000\">❱ </span>346 <span style=\"color: #7f7f7f; text-decoration-color: #7f7f7f\">│   │   </span><span style=\"color: #0000ff; text-decoration-color: #0000ff\">return</span> _default_decoder.decode(s)                                                  <span style=\"color: #ff0000; text-decoration-color: #ff0000\">│</span>\n",
       "<span style=\"color: #ff0000; text-decoration-color: #ff0000\">│</span>   <span style=\"color: #7f7f7f; text-decoration-color: #7f7f7f\">347 </span><span style=\"color: #7f7f7f; text-decoration-color: #7f7f7f\">│   </span><span style=\"color: #0000ff; text-decoration-color: #0000ff\">if</span> <span style=\"color: #00ffff; text-decoration-color: #00ffff\">cls</span> <span style=\"color: #ff00ff; text-decoration-color: #ff00ff\">is</span> <span style=\"color: #0000ff; text-decoration-color: #0000ff\">None</span>:                                                                        <span style=\"color: #ff0000; text-decoration-color: #ff0000\">│</span>\n",
       "<span style=\"color: #ff0000; text-decoration-color: #ff0000\">│</span>   <span style=\"color: #7f7f7f; text-decoration-color: #7f7f7f\">348 </span><span style=\"color: #7f7f7f; text-decoration-color: #7f7f7f\">│   │   </span><span style=\"color: #00ffff; text-decoration-color: #00ffff\">cls</span> = JSONDecoder                                                                  <span style=\"color: #ff0000; text-decoration-color: #ff0000\">│</span>\n",
       "<span style=\"color: #ff0000; text-decoration-color: #ff0000\">│</span>   <span style=\"color: #7f7f7f; text-decoration-color: #7f7f7f\">349 </span><span style=\"color: #7f7f7f; text-decoration-color: #7f7f7f\">│   </span><span style=\"color: #0000ff; text-decoration-color: #0000ff\">if</span> object_hook <span style=\"color: #ff00ff; text-decoration-color: #ff00ff\">is</span> <span style=\"color: #ff00ff; text-decoration-color: #ff00ff\">not</span> <span style=\"color: #0000ff; text-decoration-color: #0000ff\">None</span>:                                                            <span style=\"color: #ff0000; text-decoration-color: #ff0000\">│</span>\n",
       "<span style=\"color: #ff0000; text-decoration-color: #ff0000\">│</span>                                                                                                  <span style=\"color: #ff0000; text-decoration-color: #ff0000\">│</span>\n",
       "<span style=\"color: #ff0000; text-decoration-color: #ff0000\">│</span> <span style=\"color: #bfbf7f; text-decoration-color: #bfbf7f\">/home/ec2-user/anaconda3/envs/python3/lib/python3.10/json/</span><span style=\"color: #808000; text-decoration-color: #808000; font-weight: bold\">decoder.py</span>:<span style=\"color: #0000ff; text-decoration-color: #0000ff\">337</span> in <span style=\"color: #00ff00; text-decoration-color: #00ff00\">decode</span>               <span style=\"color: #ff0000; text-decoration-color: #ff0000\">│</span>\n",
       "<span style=\"color: #ff0000; text-decoration-color: #ff0000\">│</span>                                                                                                  <span style=\"color: #ff0000; text-decoration-color: #ff0000\">│</span>\n",
       "<span style=\"color: #ff0000; text-decoration-color: #ff0000\">│</span>   <span style=\"color: #7f7f7f; text-decoration-color: #7f7f7f\">334 </span><span style=\"color: #bfbf7f; text-decoration-color: #bfbf7f\">│   │   </span><span style=\"color: #808000; text-decoration-color: #808000\">containing a JSON document).</span>                                                       <span style=\"color: #ff0000; text-decoration-color: #ff0000\">│</span>\n",
       "<span style=\"color: #ff0000; text-decoration-color: #ff0000\">│</span>   <span style=\"color: #7f7f7f; text-decoration-color: #7f7f7f\">335 </span><span style=\"color: #7f7f7f; text-decoration-color: #7f7f7f\">│   │   </span>                                                                                   <span style=\"color: #ff0000; text-decoration-color: #ff0000\">│</span>\n",
       "<span style=\"color: #ff0000; text-decoration-color: #ff0000\">│</span>   <span style=\"color: #7f7f7f; text-decoration-color: #7f7f7f\">336 </span><span style=\"color: #bfbf7f; text-decoration-color: #bfbf7f\">│   │   </span><span style=\"color: #808000; text-decoration-color: #808000\">\"\"\"</span>                                                                                <span style=\"color: #ff0000; text-decoration-color: #ff0000\">│</span>\n",
       "<span style=\"color: #ff0000; text-decoration-color: #ff0000\">│</span> <span style=\"color: #800000; text-decoration-color: #800000\">❱ </span>337 <span style=\"color: #7f7f7f; text-decoration-color: #7f7f7f\">│   │   </span>obj, end = <span style=\"color: #00ffff; text-decoration-color: #00ffff\">self</span>.raw_decode(s, idx=_w(s, <span style=\"color: #0000ff; text-decoration-color: #0000ff\">0</span>).end())                                  <span style=\"color: #ff0000; text-decoration-color: #ff0000\">│</span>\n",
       "<span style=\"color: #ff0000; text-decoration-color: #ff0000\">│</span>   <span style=\"color: #7f7f7f; text-decoration-color: #7f7f7f\">338 </span><span style=\"color: #7f7f7f; text-decoration-color: #7f7f7f\">│   │   </span>end = _w(s, end).end()                                                             <span style=\"color: #ff0000; text-decoration-color: #ff0000\">│</span>\n",
       "<span style=\"color: #ff0000; text-decoration-color: #ff0000\">│</span>   <span style=\"color: #7f7f7f; text-decoration-color: #7f7f7f\">339 </span><span style=\"color: #7f7f7f; text-decoration-color: #7f7f7f\">│   │   </span><span style=\"color: #0000ff; text-decoration-color: #0000ff\">if</span> end != <span style=\"color: #00ffff; text-decoration-color: #00ffff\">len</span>(s):                                                                  <span style=\"color: #ff0000; text-decoration-color: #ff0000\">│</span>\n",
       "<span style=\"color: #ff0000; text-decoration-color: #ff0000\">│</span>   <span style=\"color: #7f7f7f; text-decoration-color: #7f7f7f\">340 </span><span style=\"color: #7f7f7f; text-decoration-color: #7f7f7f\">│   │   │   </span><span style=\"color: #0000ff; text-decoration-color: #0000ff\">raise</span> JSONDecodeError(<span style=\"color: #808000; text-decoration-color: #808000\">\"Extra data\"</span>, s, end)                                    <span style=\"color: #ff0000; text-decoration-color: #ff0000\">│</span>\n",
       "<span style=\"color: #ff0000; text-decoration-color: #ff0000\">│</span>                                                                                                  <span style=\"color: #ff0000; text-decoration-color: #ff0000\">│</span>\n",
       "<span style=\"color: #ff0000; text-decoration-color: #ff0000\">│</span> <span style=\"color: #bfbf7f; text-decoration-color: #bfbf7f\">/home/ec2-user/anaconda3/envs/python3/lib/python3.10/json/</span><span style=\"color: #808000; text-decoration-color: #808000; font-weight: bold\">decoder.py</span>:<span style=\"color: #0000ff; text-decoration-color: #0000ff\">353</span> in <span style=\"color: #00ff00; text-decoration-color: #00ff00\">raw_decode</span>           <span style=\"color: #ff0000; text-decoration-color: #ff0000\">│</span>\n",
       "<span style=\"color: #ff0000; text-decoration-color: #ff0000\">│</span>                                                                                                  <span style=\"color: #ff0000; text-decoration-color: #ff0000\">│</span>\n",
       "<span style=\"color: #ff0000; text-decoration-color: #ff0000\">│</span>   <span style=\"color: #7f7f7f; text-decoration-color: #7f7f7f\">350 </span><span style=\"color: #7f7f7f; text-decoration-color: #7f7f7f\">│   │   </span>                                                                                   <span style=\"color: #ff0000; text-decoration-color: #ff0000\">│</span>\n",
       "<span style=\"color: #ff0000; text-decoration-color: #ff0000\">│</span>   <span style=\"color: #7f7f7f; text-decoration-color: #7f7f7f\">351 </span><span style=\"color: #bfbf7f; text-decoration-color: #bfbf7f\">│   │   </span><span style=\"color: #808000; text-decoration-color: #808000\">\"\"\"</span>                                                                                <span style=\"color: #ff0000; text-decoration-color: #ff0000\">│</span>\n",
       "<span style=\"color: #ff0000; text-decoration-color: #ff0000\">│</span>   <span style=\"color: #7f7f7f; text-decoration-color: #7f7f7f\">352 </span><span style=\"color: #7f7f7f; text-decoration-color: #7f7f7f\">│   │   </span><span style=\"color: #0000ff; text-decoration-color: #0000ff\">try</span>:                                                                               <span style=\"color: #ff0000; text-decoration-color: #ff0000\">│</span>\n",
       "<span style=\"color: #ff0000; text-decoration-color: #ff0000\">│</span> <span style=\"color: #800000; text-decoration-color: #800000\">❱ </span>353 <span style=\"color: #7f7f7f; text-decoration-color: #7f7f7f\">│   │   │   </span>obj, end = <span style=\"color: #00ffff; text-decoration-color: #00ffff\">self</span>.scan_once(s, idx)                                              <span style=\"color: #ff0000; text-decoration-color: #ff0000\">│</span>\n",
       "<span style=\"color: #ff0000; text-decoration-color: #ff0000\">│</span>   <span style=\"color: #7f7f7f; text-decoration-color: #7f7f7f\">354 </span><span style=\"color: #7f7f7f; text-decoration-color: #7f7f7f\">│   │   </span><span style=\"color: #0000ff; text-decoration-color: #0000ff\">except</span> <span style=\"color: #00ffff; text-decoration-color: #00ffff\">StopIteration</span> <span style=\"color: #0000ff; text-decoration-color: #0000ff\">as</span> err:                                                       <span style=\"color: #ff0000; text-decoration-color: #ff0000\">│</span>\n",
       "<span style=\"color: #ff0000; text-decoration-color: #ff0000\">│</span>   <span style=\"color: #7f7f7f; text-decoration-color: #7f7f7f\">355 </span><span style=\"color: #7f7f7f; text-decoration-color: #7f7f7f\">│   │   │   </span><span style=\"color: #0000ff; text-decoration-color: #0000ff\">raise</span> JSONDecodeError(<span style=\"color: #808000; text-decoration-color: #808000\">\"Expecting value\"</span>, s, err.value) <span style=\"color: #0000ff; text-decoration-color: #0000ff\">from</span><span style=\"color: #808080; text-decoration-color: #808080\"> </span><span style=\"color: #0000ff; text-decoration-color: #0000ff\">None</span>               <span style=\"color: #ff0000; text-decoration-color: #ff0000\">│</span>\n",
       "<span style=\"color: #ff0000; text-decoration-color: #ff0000\">│</span>   <span style=\"color: #7f7f7f; text-decoration-color: #7f7f7f\">356 </span><span style=\"color: #7f7f7f; text-decoration-color: #7f7f7f\">│   │   </span><span style=\"color: #0000ff; text-decoration-color: #0000ff\">return</span> obj, end                                                                    <span style=\"color: #ff0000; text-decoration-color: #ff0000\">│</span>\n",
       "<span style=\"color: #ff0000; text-decoration-color: #ff0000\">╰──────────────────────────────────────────────────────────────────────────────────────────────────╯</span>\n",
       "<span style=\"color: #ff0000; text-decoration-color: #ff0000; font-weight: bold\">JSONDecodeError: </span>Unterminated string starting at: line <span style=\"color: #008080; text-decoration-color: #008080; font-weight: bold\">1</span> column <span style=\"color: #008080; text-decoration-color: #008080; font-weight: bold\">6291456</span> <span style=\"font-weight: bold\">(</span>char <span style=\"color: #008080; text-decoration-color: #008080; font-weight: bold\">6291455</span><span style=\"font-weight: bold\">)</span>\n",
       "</pre>\n"
      ],
      "text/plain": [
       "\u001b[38;2;255;0;0m╭─\u001b[0m\u001b[38;2;255;0;0m──────────────────────────────\u001b[0m\u001b[38;2;255;0;0m \u001b[0m\u001b[1;38;2;255;0;0mTraceback \u001b[0m\u001b[1;2;38;2;255;0;0m(most recent call last)\u001b[0m\u001b[38;2;255;0;0m \u001b[0m\u001b[38;2;255;0;0m───────────────────────────────\u001b[0m\u001b[38;2;255;0;0m─╮\u001b[0m\n",
       "\u001b[38;2;255;0;0m│\u001b[0m in \u001b[92m<module>\u001b[0m:\u001b[94m2\u001b[0m                                                                                    \u001b[38;2;255;0;0m│\u001b[0m\n",
       "\u001b[38;2;255;0;0m│\u001b[0m                                                                                                  \u001b[38;2;255;0;0m│\u001b[0m\n",
       "\u001b[38;2;255;0;0m│\u001b[0m   \u001b[2m1 \u001b[0m\u001b[94mwith\u001b[0m \u001b[96mopen\u001b[0m(\u001b[33m'\u001b[0m\u001b[33mcomplaints.json\u001b[0m\u001b[33m'\u001b[0m, \u001b[33m'\u001b[0m\u001b[33mr\u001b[0m\u001b[33m'\u001b[0m) \u001b[94mas\u001b[0m f:                                                      \u001b[38;2;255;0;0m│\u001b[0m\n",
       "\u001b[38;2;255;0;0m│\u001b[0m \u001b[31m❱ \u001b[0m2 \u001b[2m│   \u001b[0mdata = json.load(f)                                                                      \u001b[38;2;255;0;0m│\u001b[0m\n",
       "\u001b[38;2;255;0;0m│\u001b[0m   \u001b[2m3 \u001b[0mdf = pd.json_normalize(data)                                                                 \u001b[38;2;255;0;0m│\u001b[0m\n",
       "\u001b[38;2;255;0;0m│\u001b[0m   \u001b[2m4 \u001b[0m\u001b[96mprint\u001b[0m(\u001b[33m'\u001b[0m\u001b[33mData Shape:\u001b[0m\u001b[33m'\u001b[0m, df.shape)                                                               \u001b[38;2;255;0;0m│\u001b[0m\n",
       "\u001b[38;2;255;0;0m│\u001b[0m   \u001b[2m5 \u001b[0m                                                                                             \u001b[38;2;255;0;0m│\u001b[0m\n",
       "\u001b[38;2;255;0;0m│\u001b[0m                                                                                                  \u001b[38;2;255;0;0m│\u001b[0m\n",
       "\u001b[38;2;255;0;0m│\u001b[0m \u001b[2;33m/home/ec2-user/anaconda3/envs/python3/lib/python3.10/json/\u001b[0m\u001b[1;33m__init__.py\u001b[0m:\u001b[94m293\u001b[0m in \u001b[92mload\u001b[0m                \u001b[38;2;255;0;0m│\u001b[0m\n",
       "\u001b[38;2;255;0;0m│\u001b[0m                                                                                                  \u001b[38;2;255;0;0m│\u001b[0m\n",
       "\u001b[38;2;255;0;0m│\u001b[0m   \u001b[2m290 \u001b[0m\u001b[2;33m│   \u001b[0m\u001b[33mTo use a custom ``JSONDecoder`` subclass, specify it with the ``cls``\u001b[0m                  \u001b[38;2;255;0;0m│\u001b[0m\n",
       "\u001b[38;2;255;0;0m│\u001b[0m   \u001b[2m291 \u001b[0m\u001b[2;33m│   \u001b[0m\u001b[33mkwarg; otherwise ``JSONDecoder`` is used.\u001b[0m                                              \u001b[38;2;255;0;0m│\u001b[0m\n",
       "\u001b[38;2;255;0;0m│\u001b[0m   \u001b[2m292 \u001b[0m\u001b[2;33m│   \u001b[0m\u001b[33m\"\"\"\u001b[0m                                                                                    \u001b[38;2;255;0;0m│\u001b[0m\n",
       "\u001b[38;2;255;0;0m│\u001b[0m \u001b[31m❱ \u001b[0m293 \u001b[2m│   \u001b[0m\u001b[94mreturn\u001b[0m loads(fp.read(),                                                                \u001b[38;2;255;0;0m│\u001b[0m\n",
       "\u001b[38;2;255;0;0m│\u001b[0m   \u001b[2m294 \u001b[0m\u001b[2m│   │   \u001b[0m\u001b[96mcls\u001b[0m=\u001b[96mcls\u001b[0m, object_hook=object_hook,                                                  \u001b[38;2;255;0;0m│\u001b[0m\n",
       "\u001b[38;2;255;0;0m│\u001b[0m   \u001b[2m295 \u001b[0m\u001b[2m│   │   \u001b[0mparse_float=parse_float, parse_int=parse_int,                                      \u001b[38;2;255;0;0m│\u001b[0m\n",
       "\u001b[38;2;255;0;0m│\u001b[0m   \u001b[2m296 \u001b[0m\u001b[2m│   │   \u001b[0mparse_constant=parse_constant, object_pairs_hook=object_pairs_hook, **kw)          \u001b[38;2;255;0;0m│\u001b[0m\n",
       "\u001b[38;2;255;0;0m│\u001b[0m                                                                                                  \u001b[38;2;255;0;0m│\u001b[0m\n",
       "\u001b[38;2;255;0;0m│\u001b[0m \u001b[2;33m/home/ec2-user/anaconda3/envs/python3/lib/python3.10/json/\u001b[0m\u001b[1;33m__init__.py\u001b[0m:\u001b[94m346\u001b[0m in \u001b[92mloads\u001b[0m               \u001b[38;2;255;0;0m│\u001b[0m\n",
       "\u001b[38;2;255;0;0m│\u001b[0m                                                                                                  \u001b[38;2;255;0;0m│\u001b[0m\n",
       "\u001b[38;2;255;0;0m│\u001b[0m   \u001b[2m343 \u001b[0m\u001b[2m│   \u001b[0m\u001b[94mif\u001b[0m (\u001b[96mcls\u001b[0m \u001b[95mis\u001b[0m \u001b[94mNone\u001b[0m \u001b[95mand\u001b[0m object_hook \u001b[95mis\u001b[0m \u001b[94mNone\u001b[0m \u001b[95mand\u001b[0m                                            \u001b[38;2;255;0;0m│\u001b[0m\n",
       "\u001b[38;2;255;0;0m│\u001b[0m   \u001b[2m344 \u001b[0m\u001b[2m│   │   │   \u001b[0mparse_int \u001b[95mis\u001b[0m \u001b[94mNone\u001b[0m \u001b[95mand\u001b[0m parse_float \u001b[95mis\u001b[0m \u001b[94mNone\u001b[0m \u001b[95mand\u001b[0m                                  \u001b[38;2;255;0;0m│\u001b[0m\n",
       "\u001b[38;2;255;0;0m│\u001b[0m   \u001b[2m345 \u001b[0m\u001b[2m│   │   │   \u001b[0mparse_constant \u001b[95mis\u001b[0m \u001b[94mNone\u001b[0m \u001b[95mand\u001b[0m object_pairs_hook \u001b[95mis\u001b[0m \u001b[94mNone\u001b[0m \u001b[95mand\u001b[0m \u001b[95mnot\u001b[0m kw):              \u001b[38;2;255;0;0m│\u001b[0m\n",
       "\u001b[38;2;255;0;0m│\u001b[0m \u001b[31m❱ \u001b[0m346 \u001b[2m│   │   \u001b[0m\u001b[94mreturn\u001b[0m _default_decoder.decode(s)                                                  \u001b[38;2;255;0;0m│\u001b[0m\n",
       "\u001b[38;2;255;0;0m│\u001b[0m   \u001b[2m347 \u001b[0m\u001b[2m│   \u001b[0m\u001b[94mif\u001b[0m \u001b[96mcls\u001b[0m \u001b[95mis\u001b[0m \u001b[94mNone\u001b[0m:                                                                        \u001b[38;2;255;0;0m│\u001b[0m\n",
       "\u001b[38;2;255;0;0m│\u001b[0m   \u001b[2m348 \u001b[0m\u001b[2m│   │   \u001b[0m\u001b[96mcls\u001b[0m = JSONDecoder                                                                  \u001b[38;2;255;0;0m│\u001b[0m\n",
       "\u001b[38;2;255;0;0m│\u001b[0m   \u001b[2m349 \u001b[0m\u001b[2m│   \u001b[0m\u001b[94mif\u001b[0m object_hook \u001b[95mis\u001b[0m \u001b[95mnot\u001b[0m \u001b[94mNone\u001b[0m:                                                            \u001b[38;2;255;0;0m│\u001b[0m\n",
       "\u001b[38;2;255;0;0m│\u001b[0m                                                                                                  \u001b[38;2;255;0;0m│\u001b[0m\n",
       "\u001b[38;2;255;0;0m│\u001b[0m \u001b[2;33m/home/ec2-user/anaconda3/envs/python3/lib/python3.10/json/\u001b[0m\u001b[1;33mdecoder.py\u001b[0m:\u001b[94m337\u001b[0m in \u001b[92mdecode\u001b[0m               \u001b[38;2;255;0;0m│\u001b[0m\n",
       "\u001b[38;2;255;0;0m│\u001b[0m                                                                                                  \u001b[38;2;255;0;0m│\u001b[0m\n",
       "\u001b[38;2;255;0;0m│\u001b[0m   \u001b[2m334 \u001b[0m\u001b[2;33m│   │   \u001b[0m\u001b[33mcontaining a JSON document).\u001b[0m                                                       \u001b[38;2;255;0;0m│\u001b[0m\n",
       "\u001b[38;2;255;0;0m│\u001b[0m   \u001b[2m335 \u001b[0m\u001b[2m│   │   \u001b[0m                                                                                   \u001b[38;2;255;0;0m│\u001b[0m\n",
       "\u001b[38;2;255;0;0m│\u001b[0m   \u001b[2m336 \u001b[0m\u001b[2;33m│   │   \u001b[0m\u001b[33m\"\"\"\u001b[0m                                                                                \u001b[38;2;255;0;0m│\u001b[0m\n",
       "\u001b[38;2;255;0;0m│\u001b[0m \u001b[31m❱ \u001b[0m337 \u001b[2m│   │   \u001b[0mobj, end = \u001b[96mself\u001b[0m.raw_decode(s, idx=_w(s, \u001b[94m0\u001b[0m).end())                                  \u001b[38;2;255;0;0m│\u001b[0m\n",
       "\u001b[38;2;255;0;0m│\u001b[0m   \u001b[2m338 \u001b[0m\u001b[2m│   │   \u001b[0mend = _w(s, end).end()                                                             \u001b[38;2;255;0;0m│\u001b[0m\n",
       "\u001b[38;2;255;0;0m│\u001b[0m   \u001b[2m339 \u001b[0m\u001b[2m│   │   \u001b[0m\u001b[94mif\u001b[0m end != \u001b[96mlen\u001b[0m(s):                                                                  \u001b[38;2;255;0;0m│\u001b[0m\n",
       "\u001b[38;2;255;0;0m│\u001b[0m   \u001b[2m340 \u001b[0m\u001b[2m│   │   │   \u001b[0m\u001b[94mraise\u001b[0m JSONDecodeError(\u001b[33m\"\u001b[0m\u001b[33mExtra data\u001b[0m\u001b[33m\"\u001b[0m, s, end)                                    \u001b[38;2;255;0;0m│\u001b[0m\n",
       "\u001b[38;2;255;0;0m│\u001b[0m                                                                                                  \u001b[38;2;255;0;0m│\u001b[0m\n",
       "\u001b[38;2;255;0;0m│\u001b[0m \u001b[2;33m/home/ec2-user/anaconda3/envs/python3/lib/python3.10/json/\u001b[0m\u001b[1;33mdecoder.py\u001b[0m:\u001b[94m353\u001b[0m in \u001b[92mraw_decode\u001b[0m           \u001b[38;2;255;0;0m│\u001b[0m\n",
       "\u001b[38;2;255;0;0m│\u001b[0m                                                                                                  \u001b[38;2;255;0;0m│\u001b[0m\n",
       "\u001b[38;2;255;0;0m│\u001b[0m   \u001b[2m350 \u001b[0m\u001b[2m│   │   \u001b[0m                                                                                   \u001b[38;2;255;0;0m│\u001b[0m\n",
       "\u001b[38;2;255;0;0m│\u001b[0m   \u001b[2m351 \u001b[0m\u001b[2;33m│   │   \u001b[0m\u001b[33m\"\"\"\u001b[0m                                                                                \u001b[38;2;255;0;0m│\u001b[0m\n",
       "\u001b[38;2;255;0;0m│\u001b[0m   \u001b[2m352 \u001b[0m\u001b[2m│   │   \u001b[0m\u001b[94mtry\u001b[0m:                                                                               \u001b[38;2;255;0;0m│\u001b[0m\n",
       "\u001b[38;2;255;0;0m│\u001b[0m \u001b[31m❱ \u001b[0m353 \u001b[2m│   │   │   \u001b[0mobj, end = \u001b[96mself\u001b[0m.scan_once(s, idx)                                              \u001b[38;2;255;0;0m│\u001b[0m\n",
       "\u001b[38;2;255;0;0m│\u001b[0m   \u001b[2m354 \u001b[0m\u001b[2m│   │   \u001b[0m\u001b[94mexcept\u001b[0m \u001b[96mStopIteration\u001b[0m \u001b[94mas\u001b[0m err:                                                       \u001b[38;2;255;0;0m│\u001b[0m\n",
       "\u001b[38;2;255;0;0m│\u001b[0m   \u001b[2m355 \u001b[0m\u001b[2m│   │   │   \u001b[0m\u001b[94mraise\u001b[0m JSONDecodeError(\u001b[33m\"\u001b[0m\u001b[33mExpecting value\u001b[0m\u001b[33m\"\u001b[0m, s, err.value) \u001b[94mfrom\u001b[0m\u001b[90m \u001b[0m\u001b[94mNone\u001b[0m               \u001b[38;2;255;0;0m│\u001b[0m\n",
       "\u001b[38;2;255;0;0m│\u001b[0m   \u001b[2m356 \u001b[0m\u001b[2m│   │   \u001b[0m\u001b[94mreturn\u001b[0m obj, end                                                                    \u001b[38;2;255;0;0m│\u001b[0m\n",
       "\u001b[38;2;255;0;0m╰──────────────────────────────────────────────────────────────────────────────────────────────────╯\u001b[0m\n",
       "\u001b[1;91mJSONDecodeError: \u001b[0mUnterminated string starting at: line \u001b[1;36m1\u001b[0m column \u001b[1;36m6291456\u001b[0m \u001b[1m(\u001b[0mchar \u001b[1;36m6291455\u001b[0m\u001b[1m)\u001b[0m\n"
      ]
     },
     "metadata": {},
     "output_type": "display_data"
    }
   ],
   "source": [
    "with open('complaints.json', 'r') as f:\n",
    "    data = json.load(f)\n",
    "df = pd.json_normalize(data)\n",
    "print('Data Shape:', df.shape)"
   ]
  },
  {
   "cell_type": "markdown",
   "id": "8a183346-3a5c-483f-9204-f02ae388ef0d",
   "metadata": {},
   "source": [
    "### 2: Clean columns"
   ]
  },
  {
   "cell_type": "code",
   "execution_count": null,
   "id": "ac166ea7-1a3e-491c-a601-9b6be376bc96",
   "metadata": {},
   "outputs": [],
   "source": [
    "# rename columns\n",
    "df.rename(columns={\n",
    "    '_source.product': 'category',\n",
    "    '_source.complaint_what_happened': 'text'\n",
    "}, inplace=True)\n",
    "\n",
    "# drop columns\n",
    "columns_to_keep = ['category', 'text']\n",
    "all_columns = df.columns.tolist()\n",
    "columns_to_drop = [col for col in all_columns if col not in columns_to_keep]\n",
    "df.drop(columns_to_drop, axis=1, inplace=True)\n",
    "\n",
    "df.columns"
   ]
  },
  {
   "cell_type": "markdown",
   "id": "52447eba-30a6-4ef2-ac8b-e957a4400e3b",
   "metadata": {},
   "source": [
    "### 3: Clean rows and text"
   ]
  },
  {
   "cell_type": "code",
   "execution_count": null,
   "id": "67317a05-10c0-4782-8e59-dcc07570339b",
   "metadata": {},
   "outputs": [],
   "source": [
    "# null handling\n",
    "df = df[\n",
    "    df['text'].str.strip().astype(bool) &\n",
    "    df['category'].notna() &\n",
    "    df['category'].str.strip().astype(bool)\n",
    "].copy()\n",
    "\n",
    "\n",
    "# text cleaning\n",
    "def clean_text_column(text_series):\n",
    "    cleaned = text_series.str.replace(REDACTION_PATTERNS, '[REDACTED]')\n",
    "    for pattern, replacement in CLEANING_PATTERNS:\n",
    "        cleaned = cleaned.str.replace(pattern, replacement)\n",
    "    return cleaned.str.lower().str.strip()\n",
    "\n",
    "\n",
    "df['text'] = clean_text_column(df['text'])\n",
    "\n",
    "\n",
    "# Stratified sampling with quantile-based balancing\n",
    "category_counts = df['category'].value_counts()\n",
    "min_samples = int(max(100, category_counts.quantile(0.85)))  # Ensure minimum 100 samples\n",
    "balanced_dfs = []\n",
    "for category, group in df.groupby('category'):\n",
    "    if len(group) < min_samples:\n",
    "        group = resample(group, replace=True, n_samples=min_samples, random_state=123)\n",
    "    balanced_dfs.append(group)\n",
    "\n",
    "df = pd.concat(balanced_dfs, ignore_index=True)\n",
    "print(f\"Balanced Data Shape: {df.shape}\")\n",
    "\n",
    "# Preview\n",
    "df.head()"
   ]
  },
  {
   "cell_type": "markdown",
   "id": "68747e8f-963a-4548-9166-a4ba54163027",
   "metadata": {},
   "source": [
    "### 4: Split and upload"
   ]
  },
  {
   "cell_type": "code",
   "execution_count": null,
   "id": "3a456e18-3f0e-4116-8bd5-7d9bfd12d2b1",
   "metadata": {},
   "outputs": [],
   "source": [
    "train_data, validation_data = train_test_split(\n",
    "    df, \n",
    "    test_size=0.2, \n",
    "    random_state=123,\n",
    "    stratify=df['category']\n",
    ")\n",
    "\n",
    "def format_blazingtext(df):\n",
    "    return '\\n'.join(\n",
    "        f\"__label__{cat.replace(' ', '_')} {txt}\" \n",
    "        for cat, txt in zip(df['category'], df['text'])\n",
    "    )\n",
    "\n",
    "# Batch write formatted data\n",
    "for name, data in [('train', train_data), ('validation', validation_data)]:\n",
    "    with open(f'{name}.txt', 'w') as f:\n",
    "        f.write(format_blazingtext(data))"
   ]
  },
  {
   "cell_type": "markdown",
   "id": "f74792f1-9e44-4c17-aed8-b0c7265e3d4f",
   "metadata": {},
   "source": [
    "<b><h2 style=\"text-align:center;\">MODEL TRAINING</h2></b>"
   ]
  },
  {
   "cell_type": "markdown",
   "id": "753a1a26-91d8-43ad-8c7f-5378c387358d",
   "metadata": {},
   "source": [
    "### 5: Upload Data to S3"
   ]
  },
  {
   "cell_type": "code",
   "execution_count": null,
   "id": "3e64f4f0-7630-46fe-b9e2-e3e07388746e",
   "metadata": {},
   "outputs": [],
   "source": [
    "version = datetime.now().strftime(\"%Y%m%d-%H%M\")\n",
    "s3_prefix = f\"{prefix}/{version}\"\n",
    "\n",
    "sagemaker_session.upload_data('train.txt', bucket=bucket, key_prefix=f'{s3_prefix}/train')\n",
    "sagemaker_session.upload_data('validation.txt', bucket=bucket, key_prefix=f'{s3_prefix}/validation')"
   ]
  },
  {
   "cell_type": "markdown",
   "id": "f1613cbc-7a46-44fb-8914-2980c360bd57",
   "metadata": {},
   "source": [
    "### 6: Train the BlazingText Model"
   ]
  },
  {
   "cell_type": "code",
   "execution_count": null,
   "id": "10b7593b-e17b-490b-9e97-01b39036660d",
   "metadata": {},
   "outputs": [],
   "source": [
    "region_name = boto3.Session().region_name\n",
    "container = get_image_uri(region_name, 'blazingtext')\n",
    "\n",
    "# Enhanced hyperparameters\n",
    "hyperparams = {\n",
    "    \"mode\": \"supervised\",\n",
    "    \"epochs\": 50,\n",
    "    \"learning_rate\": 0.1,\n",
    "    \"min_count\": 2,\n",
    "    \"vector_dim\": 300,\n",
    "    \"word_ngrams\": 3,\n",
    "    \"bucket\": 200000,\n",
    "    \"early_stopping\": True,\n",
    "    \"patience\": 5,\n",
    "    \"threads\": 8  # Utilize more CPU cores\n",
    "}\n",
    "\n",
    "# Configure estimator with optimized instance\n",
    "bt_estimator = sagemaker.estimator.Estimator(\n",
    "    container,\n",
    "    role,\n",
    "    instance_count=1,\n",
    "    instance_type='ml.m5.xlarge',  # Better compute ratio\n",
    "    output_path=f's3://{bucket}/{s3_prefix}/output',\n",
    "    sagemaker_session=sagemaker_session,\n",
    "    hyperparameters=hyperparams\n",
    ")\n",
    "\n",
    "# Start training with versioned data\n",
    "bt_estimator.fit({'train': f's3://{bucket}/{s3_prefix}/train/train.txt',\n",
    "                  'validation': f's3://{bucket}/{s3_prefix}/validation/validation.txt'})"
   ]
  },
  {
   "cell_type": "markdown",
   "id": "7b4e3ab5-8dcc-4256-be61-e5eae4bfae11",
   "metadata": {},
   "source": [
    "### 7: Deploy the Model for Inference"
   ]
  },
  {
   "cell_type": "code",
   "execution_count": null,
   "id": "42a76399-c2da-400d-8072-2dbd719faafe",
   "metadata": {},
   "outputs": [],
   "source": [
    "bt_predictor = bt_estimator.deploy(\n",
    "    initial_instance_count=1,\n",
    "    instance_type='ml.m5.xlarge',\n",
    "    serializer=JSONSerializer(),\n",
    "    deserializer=JSONDeserializer(),\n",
    "    endpoint_name=f'complaint-classifier-{version}'\n",
    ")\n",
    "\n",
    "# Configure auto-scaling\n",
    "client = boto3.client('application-autoscaling')\n",
    "client.register_scalable_target(\n",
    "    ServiceNamespace='sagemaker',\n",
    "    ResourceId=f'endpoint/complaint-classifier-{version}/variant/AllTraffic',\n",
    "    ScalableDimension='sagemaker:variant:DesiredInstanceCount',\n",
    "    MinCapacity=1,\n",
    "    MaxCapacity=3\n",
    ")"
   ]
  },
  {
   "cell_type": "markdown",
   "id": "b6834d95-8a61-4f03-93c7-984f91d531e9",
   "metadata": {},
   "source": [
    "### 8: Query Model"
   ]
  },
  {
   "cell_type": "code",
   "execution_count": null,
   "id": "f0f6ce71-60ba-4866-961b-9a08f05ca8a7",
   "metadata": {},
   "outputs": [],
   "source": [
    "def clean_single_text(text):\n",
    "    # Individual text processing\n",
    "    if not isinstance(text, str):\n",
    "        return ''\n",
    "    cleaned = REDACTION_PATTERNS.sub('[REDACTED]', text)\n",
    "    for pattern, replacement in CLEANING_PATTERNS:\n",
    "        cleaned = pattern.sub(replacement, cleaned)\n",
    "    return cleaned.lower().strip()\n",
    "\n",
    "\n",
    "def predict_complaint(text):\n",
    "    cleaned = clean_single_text(text)\n",
    "    tokens = cleaned.split()[:512]  # Truncate to 512 tokens\n",
    "    payload = {\"instances\": [tokens]}\n",
    "    try:\n",
    "        response = bt_predictor.predict(payload)\n",
    "        return response[0]['label'].replace('__label__', '')\n",
    "    except Exception as e:\n",
    "        print(f\"Prediction error: {str(e)}\")\n",
    "        return \"Classification failed\"\n",
    "\n",
    "\n",
    "# Test with sample\n",
    "sample = \"Unauthorized $500 charge on XXXX-1234 account\"\n",
    "print(f\"Original text: {sample}\")\n",
    "print(f\"Cleaned text: {clean_single_text(sample)}\")\n",
    "print(f\"Prediction: {predict_complaint(sample)}\")"
   ]
  },
  {
   "cell_type": "markdown",
   "id": "06c050cf-5f8d-43d3-818a-746fe7fffd49",
   "metadata": {},
   "source": [
    "### 8: Clean Up"
   ]
  },
  {
   "cell_type": "code",
   "execution_count": null,
   "id": "d00d7f11-bd8d-4e52-b6b4-98b1b91d2dc8",
   "metadata": {},
   "outputs": [],
   "source": [
    "# Delete endpoint to avoid ongoing charges\n",
    "bt_predictor.delete_endpoint()"
   ]
  }
 ],
 "metadata": {
  "kernelspec": {
   "display_name": "conda_python3",
   "language": "python",
   "name": "conda_python3"
  },
  "language_info": {
   "codemirror_mode": {
    "name": "ipython",
    "version": 3
   },
   "file_extension": ".py",
   "mimetype": "text/x-python",
   "name": "python",
   "nbconvert_exporter": "python",
   "pygments_lexer": "ipython3",
   "version": "3.10.16"
  }
 },
 "nbformat": 4,
 "nbformat_minor": 5
}
